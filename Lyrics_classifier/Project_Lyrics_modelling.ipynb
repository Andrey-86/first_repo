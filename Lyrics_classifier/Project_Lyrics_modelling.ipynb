{
 "cells": [
  {
   "cell_type": "code",
   "execution_count": 3,
   "metadata": {
    "colab": {},
    "colab_type": "code",
    "id": "fMSuWJanIBW0"
   },
   "outputs": [],
   "source": [
    "import pandas as pd\n",
    "import numpy as np"
   ]
  },
  {
   "cell_type": "code",
   "execution_count": 4,
   "metadata": {
    "colab": {
     "base_uri": "https://localhost:8080/",
     "height": 34
    },
    "colab_type": "code",
    "id": "CrJEfKMyIBXd",
    "outputId": "2fa8f878-76c9-44a9-fb77-d328ae8fded3"
   },
   "outputs": [
    {
     "name": "stdout",
     "output_type": "stream",
     "text": [
      "314\n"
     ]
    }
   ],
   "source": [
    "df_q=pd.read_csv('texts_q', index_col=0)\n",
    "df_q.drop_duplicates(inplace=True)\n",
    "df_q=df_q.iloc[:, 0].tolist()\n",
    "print(len(df_q))"
   ]
  },
  {
   "cell_type": "code",
   "execution_count": 5,
   "metadata": {
    "colab": {
     "base_uri": "https://localhost:8080/",
     "height": 34
    },
    "colab_type": "code",
    "id": "bGE9D1kbIBX4",
    "outputId": "a6dd6ab8-fcdc-40bb-f511-04436d25f386"
   },
   "outputs": [
    {
     "name": "stdout",
     "output_type": "stream",
     "text": [
      "539\n"
     ]
    }
   ],
   "source": [
    "df_rs=pd.read_csv('texts_rs', index_col=0)\n",
    "df_rs.drop_duplicates(inplace=True)\n",
    "df_rs=df_rs.iloc[:, 0].tolist()\n",
    "print(len(df_rs))"
   ]
  },
  {
   "cell_type": "markdown",
   "metadata": {
    "colab_type": "text",
    "id": "Bce7jtFMIBYP"
   },
   "source": [
    "### Cleaning text with Spacy"
   ]
  },
  {
   "cell_type": "code",
   "execution_count": 6,
   "metadata": {
    "colab": {
     "base_uri": "https://localhost:8080/",
     "height": 768
    },
    "colab_type": "code",
    "id": "qZSWlYxLIBYT",
    "outputId": "9a295ad6-abfd-4149-9817-9ba703d17de5"
   },
   "outputs": [
    {
     "name": "stdout",
     "output_type": "stream",
     "text": [
      "Requirement already satisfied: spacy in c:\\users\\admin\\anaconda3\\lib\\site-packages (2.2.3)\n",
      "Requirement already satisfied: cymem<2.1.0,>=2.0.2 in c:\\users\\admin\\anaconda3\\lib\\site-packages (from spacy) (2.0.3)\n",
      "Requirement already satisfied: preshed<3.1.0,>=3.0.2 in c:\\users\\admin\\anaconda3\\lib\\site-packages (from spacy) (3.0.2)\n",
      "Requirement already satisfied: numpy>=1.15.0 in c:\\users\\admin\\anaconda3\\lib\\site-packages (from spacy) (1.18.1)\n",
      "Requirement already satisfied: plac<1.2.0,>=0.9.6 in c:\\users\\admin\\anaconda3\\lib\\site-packages (from spacy) (0.9.6)\n",
      "Requirement already satisfied: requests<3.0.0,>=2.13.0 in c:\\users\\admin\\anaconda3\\lib\\site-packages (from spacy) (2.22.0)\n",
      "Requirement already satisfied: catalogue<1.1.0,>=0.0.7 in c:\\users\\admin\\anaconda3\\lib\\site-packages (from spacy) (1.0.0)\n",
      "Requirement already satisfied: setuptools in c:\\users\\admin\\anaconda3\\lib\\site-packages (from spacy) (45.2.0.post20200210)\n",
      "Requirement already satisfied: thinc<7.4.0,>=7.3.0 in c:\\users\\admin\\anaconda3\\lib\\site-packages (from spacy) (7.3.0)\n",
      "Requirement already satisfied: srsly<1.1.0,>=0.1.0 in c:\\users\\admin\\anaconda3\\lib\\site-packages (from spacy) (1.0.2)\n",
      "Requirement already satisfied: blis<0.5.0,>=0.4.0 in c:\\users\\admin\\anaconda3\\lib\\site-packages (from spacy) (0.4.1)\n",
      "Requirement already satisfied: murmurhash<1.1.0,>=0.28.0 in c:\\users\\admin\\anaconda3\\lib\\site-packages (from spacy) (1.0.0)\n",
      "Requirement already satisfied: wasabi<1.1.0,>=0.4.0 in c:\\users\\admin\\anaconda3\\lib\\site-packages (from spacy) (0.6.0)\n",
      "Requirement already satisfied: certifi>=2017.4.17 in c:\\users\\admin\\anaconda3\\lib\\site-packages (from requests<3.0.0,>=2.13.0->spacy) (2019.11.28)\n",
      "Requirement already satisfied: urllib3!=1.25.0,!=1.25.1,<1.26,>=1.21.1 in c:\\users\\admin\\anaconda3\\lib\\site-packages (from requests<3.0.0,>=2.13.0->spacy) (1.25.8)\n",
      "Requirement already satisfied: idna<2.9,>=2.5 in c:\\users\\admin\\anaconda3\\lib\\site-packages (from requests<3.0.0,>=2.13.0->spacy) (2.8)\n",
      "Requirement already satisfied: chardet<3.1.0,>=3.0.2 in c:\\users\\admin\\anaconda3\\lib\\site-packages (from requests<3.0.0,>=2.13.0->spacy) (3.0.4)\n",
      "Requirement already satisfied: importlib-metadata>=0.20; python_version < \"3.8\" in c:\\users\\admin\\anaconda3\\lib\\site-packages (from catalogue<1.1.0,>=0.0.7->spacy) (1.5.0)\n",
      "Requirement already satisfied: tqdm<5.0.0,>=4.10.0 in c:\\users\\admin\\anaconda3\\lib\\site-packages (from thinc<7.4.0,>=7.3.0->spacy) (4.42.1)\n",
      "Requirement already satisfied: zipp>=0.5 in c:\\users\\admin\\anaconda3\\lib\\site-packages (from importlib-metadata>=0.20; python_version < \"3.8\"->catalogue<1.1.0,>=0.0.7->spacy) (2.2.0)\n",
      "Requirement already satisfied: en_core_web_md==2.2.5 from https://github.com/explosion/spacy-models/releases/download/en_core_web_md-2.2.5/en_core_web_md-2.2.5.tar.gz#egg=en_core_web_md==2.2.5 in c:\\users\\admin\\anaconda3\\lib\\site-packages (2.2.5)\n",
      "Requirement already satisfied: spacy>=2.2.2 in c:\\users\\admin\\anaconda3\\lib\\site-packages (from en_core_web_md==2.2.5) (2.2.3)\n",
      "Requirement already satisfied: numpy>=1.15.0 in c:\\users\\admin\\anaconda3\\lib\\site-packages (from spacy>=2.2.2->en_core_web_md==2.2.5) (1.18.1)\n",
      "Requirement already satisfied: blis<0.5.0,>=0.4.0 in c:\\users\\admin\\anaconda3\\lib\\site-packages (from spacy>=2.2.2->en_core_web_md==2.2.5) (0.4.1)\n",
      "Requirement already satisfied: murmurhash<1.1.0,>=0.28.0 in c:\\users\\admin\\anaconda3\\lib\\site-packages (from spacy>=2.2.2->en_core_web_md==2.2.5) (1.0.0)\n",
      "Requirement already satisfied: preshed<3.1.0,>=3.0.2 in c:\\users\\admin\\anaconda3\\lib\\site-packages (from spacy>=2.2.2->en_core_web_md==2.2.5) (3.0.2)\n",
      "Requirement already satisfied: plac<1.2.0,>=0.9.6 in c:\\users\\admin\\anaconda3\\lib\\site-packages (from spacy>=2.2.2->en_core_web_md==2.2.5) (0.9.6)\n",
      "Requirement already satisfied: setuptools in c:\\users\\admin\\anaconda3\\lib\\site-packages (from spacy>=2.2.2->en_core_web_md==2.2.5) (45.2.0.post20200210)\n",
      "Requirement already satisfied: cymem<2.1.0,>=2.0.2 in c:\\users\\admin\\anaconda3\\lib\\site-packages (from spacy>=2.2.2->en_core_web_md==2.2.5) (2.0.3)\n",
      "Requirement already satisfied: catalogue<1.1.0,>=0.0.7 in c:\\users\\admin\\anaconda3\\lib\\site-packages (from spacy>=2.2.2->en_core_web_md==2.2.5) (1.0.0)\n",
      "Requirement already satisfied: wasabi<1.1.0,>=0.4.0 in c:\\users\\admin\\anaconda3\\lib\\site-packages (from spacy>=2.2.2->en_core_web_md==2.2.5) (0.6.0)\n",
      "Requirement already satisfied: srsly<1.1.0,>=0.1.0 in c:\\users\\admin\\anaconda3\\lib\\site-packages (from spacy>=2.2.2->en_core_web_md==2.2.5) (1.0.2)\n",
      "Requirement already satisfied: thinc<7.4.0,>=7.3.0 in c:\\users\\admin\\anaconda3\\lib\\site-packages (from spacy>=2.2.2->en_core_web_md==2.2.5) (7.3.0)\n",
      "Requirement already satisfied: requests<3.0.0,>=2.13.0 in c:\\users\\admin\\anaconda3\\lib\\site-packages (from spacy>=2.2.2->en_core_web_md==2.2.5) (2.22.0)\n",
      "Requirement already satisfied: importlib-metadata>=0.20; python_version < \"3.8\" in c:\\users\\admin\\anaconda3\\lib\\site-packages (from catalogue<1.1.0,>=0.0.7->spacy>=2.2.2->en_core_web_md==2.2.5) (1.5.0)\n",
      "Requirement already satisfied: tqdm<5.0.0,>=4.10.0 in c:\\users\\admin\\anaconda3\\lib\\site-packages (from thinc<7.4.0,>=7.3.0->spacy>=2.2.2->en_core_web_md==2.2.5) (4.42.1)\n",
      "Requirement already satisfied: certifi>=2017.4.17 in c:\\users\\admin\\anaconda3\\lib\\site-packages (from requests<3.0.0,>=2.13.0->spacy>=2.2.2->en_core_web_md==2.2.5) (2019.11.28)\n",
      "Requirement already satisfied: idna<2.9,>=2.5 in c:\\users\\admin\\anaconda3\\lib\\site-packages (from requests<3.0.0,>=2.13.0->spacy>=2.2.2->en_core_web_md==2.2.5) (2.8)\n",
      "Requirement already satisfied: urllib3!=1.25.0,!=1.25.1,<1.26,>=1.21.1 in c:\\users\\admin\\anaconda3\\lib\\site-packages (from requests<3.0.0,>=2.13.0->spacy>=2.2.2->en_core_web_md==2.2.5) (1.25.8)\n",
      "Requirement already satisfied: chardet<3.1.0,>=3.0.2 in c:\\users\\admin\\anaconda3\\lib\\site-packages (from requests<3.0.0,>=2.13.0->spacy>=2.2.2->en_core_web_md==2.2.5) (3.0.4)\n",
      "Requirement already satisfied: zipp>=0.5 in c:\\users\\admin\\anaconda3\\lib\\site-packages (from importlib-metadata>=0.20; python_version < \"3.8\"->catalogue<1.1.0,>=0.0.7->spacy>=2.2.2->en_core_web_md==2.2.5) (2.2.0)\n",
      "[+] Download and installation successful\n",
      "You can now load the model via spacy.load('en_core_web_md')\n"
     ]
    }
   ],
   "source": [
    "!pip install spacy\n",
    "!python -m spacy download en_core_web_md\n",
    "import spacy\n",
    "model = spacy.load('en_core_web_md')\n",
    "\n",
    "def cleaning_function(text):\n",
    "    clean_text = []\n",
    "    token_text = model(text)\n",
    "    for word in token_text:\n",
    "        if not word.is_stop and not word.is_punct and word.is_alpha:\n",
    "            clean_text.append(word.lemma_)\n",
    "    return ' '.join(clean_text)"
   ]
  },
  {
   "cell_type": "code",
   "execution_count": 7,
   "metadata": {
    "colab": {},
    "colab_type": "code",
    "id": "Chk2ezwfIBYo"
   },
   "outputs": [],
   "source": [
    "texts_queen_cl = []\n",
    "for i in df_q:\n",
    "    i = cleaning_function(i)\n",
    "    texts_queen_cl.append(i)"
   ]
  },
  {
   "cell_type": "code",
   "execution_count": 8,
   "metadata": {
    "colab": {},
    "colab_type": "code",
    "id": "9Kk5SqxGIBZU"
   },
   "outputs": [],
   "source": [
    "df_q_cl = pd.DataFrame()\n",
    "df_q_cl['SONGS'] = texts_queen_cl\n",
    "df_q_cl.rename(columns={'0':'SONGS'}, inplace=True)\n",
    "df_q_cl['ARTIST_Queen/Rollingstones_0/1'] = '0'"
   ]
  },
  {
   "cell_type": "code",
   "execution_count": 9,
   "metadata": {
    "colab": {},
    "colab_type": "code",
    "id": "lCUCMv0oIBZy"
   },
   "outputs": [],
   "source": [
    "texts_rollingst_cl = []\n",
    "for i in df_rs:\n",
    "    i = cleaning_function(i)\n",
    "    texts_rollingst_cl.append(i)"
   ]
  },
  {
   "cell_type": "code",
   "execution_count": 10,
   "metadata": {
    "colab": {},
    "colab_type": "code",
    "id": "_2Tx8-eRIBaY"
   },
   "outputs": [
    {
     "name": "stdout",
     "output_type": "stream",
     "text": [
      "(853, 2)\n"
     ]
    }
   ],
   "source": [
    "df_rs_cl = pd.DataFrame()\n",
    "df_rs_cl['SONGS'] = texts_rollingst_cl\n",
    "df_rs_cl.rename(columns={'0':'SONGS'}, inplace=True)\n",
    "df_rs_cl['ARTIST_Queen/Rollingstones_0/1'] = '1'\n",
    "df = df_q_cl.append(df_rs_cl)\n",
    "df.to_csv('songs_qrs_cl')\n",
    "print(df.shape)"
   ]
  },
  {
   "cell_type": "code",
   "execution_count": 11,
   "metadata": {},
   "outputs": [
    {
     "data": {
      "text/html": [
       "<div>\n",
       "<style scoped>\n",
       "    .dataframe tbody tr th:only-of-type {\n",
       "        vertical-align: middle;\n",
       "    }\n",
       "\n",
       "    .dataframe tbody tr th {\n",
       "        vertical-align: top;\n",
       "    }\n",
       "\n",
       "    .dataframe thead th {\n",
       "        text-align: right;\n",
       "    }\n",
       "</style>\n",
       "<table border=\"1\" class=\"dataframe\">\n",
       "  <thead>\n",
       "    <tr style=\"text-align: right;\">\n",
       "      <th></th>\n",
       "      <th>Unnamed: 0</th>\n",
       "      <th>SONGS</th>\n",
       "      <th>ARTIST_Queen/Rollingstones_0/1</th>\n",
       "    </tr>\n",
       "  </thead>\n",
       "  <tbody>\n",
       "    <tr>\n",
       "      <th>0</th>\n",
       "      <td>0</td>\n",
       "      <td>ooh ooh sun hang sky desert sand wave crash se...</td>\n",
       "      <td>0</td>\n",
       "    </tr>\n",
       "    <tr>\n",
       "      <th>1</th>\n",
       "      <td>1</td>\n",
       "      <td>oh oh fool fool fool fool fool fool fool fool ...</td>\n",
       "      <td>0</td>\n",
       "    </tr>\n",
       "    <tr>\n",
       "      <th>2</th>\n",
       "      <td>2</td>\n",
       "      <td>Woh ow oh yeah touch afraid burn foot high spe...</td>\n",
       "      <td>0</td>\n",
       "    </tr>\n",
       "    <tr>\n",
       "      <th>3</th>\n",
       "      <td>3</td>\n",
       "      <td>anybody find somebody love ooh morning die lit...</td>\n",
       "      <td>0</td>\n",
       "    </tr>\n",
       "    <tr>\n",
       "      <th>4</th>\n",
       "      <td>4</td>\n",
       "      <td>yesterday life ruin today know get to feeling ...</td>\n",
       "      <td>0</td>\n",
       "    </tr>\n",
       "  </tbody>\n",
       "</table>\n",
       "</div>"
      ],
      "text/plain": [
       "   Unnamed: 0                                              SONGS  \\\n",
       "0           0  ooh ooh sun hang sky desert sand wave crash se...   \n",
       "1           1  oh oh fool fool fool fool fool fool fool fool ...   \n",
       "2           2  Woh ow oh yeah touch afraid burn foot high spe...   \n",
       "3           3  anybody find somebody love ooh morning die lit...   \n",
       "4           4  yesterday life ruin today know get to feeling ...   \n",
       "\n",
       "   ARTIST_Queen/Rollingstones_0/1  \n",
       "0                               0  \n",
       "1                               0  \n",
       "2                               0  \n",
       "3                               0  \n",
       "4                               0  "
      ]
     },
     "execution_count": 11,
     "metadata": {},
     "output_type": "execute_result"
    }
   ],
   "source": [
    "df = pd.read_csv('songs_qrs_cl')\n",
    "df.head()"
   ]
  },
  {
   "cell_type": "markdown",
   "metadata": {
    "colab_type": "text",
    "id": "6ABQaCV5IBbJ"
   },
   "source": [
    "### Train-test split"
   ]
  },
  {
   "cell_type": "code",
   "execution_count": 12,
   "metadata": {
    "colab": {},
    "colab_type": "code",
    "id": "bkkmLnlJIBbN"
   },
   "outputs": [],
   "source": [
    "X = df['SONGS']\n",
    "y = df['ARTIST_Queen/Rollingstones_0/1']"
   ]
  },
  {
   "cell_type": "code",
   "execution_count": 13,
   "metadata": {
    "colab": {},
    "colab_type": "code",
    "id": "nGF-jURdIBbj"
   },
   "outputs": [],
   "source": [
    "from sklearn.model_selection import train_test_split\n",
    "X_train, X_test, y_train, y_test = train_test_split(X, y, random_state=42)"
   ]
  },
  {
   "cell_type": "markdown",
   "metadata": {
    "colab_type": "text",
    "id": "TNAmlYhqIBb8"
   },
   "source": [
    "### Count Vectorizer and tfidf Transfomer"
   ]
  },
  {
   "cell_type": "code",
   "execution_count": 14,
   "metadata": {
    "colab": {},
    "colab_type": "code",
    "id": "kD-WdpBKIBb_"
   },
   "outputs": [],
   "source": [
    "def fit_transfrom(df):\n",
    "\n",
    "    from sklearn.feature_extraction.text import TfidfVectorizer\n",
    "    tfv = TfidfVectorizer(stop_words='english')\n",
    "    tfv.fit(X_train) # Fit on X_train only\n",
    "    tfv_corpus = tfv.transform(df)\n",
    "    df_final = pd.DataFrame(tfv_corpus.todense().round(2), columns=tfv.get_feature_names())\n",
    "\n",
    "    return df_final"
   ]
  },
  {
   "cell_type": "code",
   "execution_count": 15,
   "metadata": {
    "colab": {},
    "colab_type": "code",
    "id": "nEKz5tVFIBcW"
   },
   "outputs": [],
   "source": [
    "X_train_fe = fit_transfrom(X_train)\n",
    "X_test_fe = fit_transfrom(X_test)"
   ]
  },
  {
   "cell_type": "markdown",
   "metadata": {},
   "source": [
    "### Class imbalance - over sampling"
   ]
  },
  {
   "cell_type": "code",
   "execution_count": 16,
   "metadata": {},
   "outputs": [
    {
     "data": {
      "text/plain": [
       "1    401\n",
       "0    238\n",
       "Name: ARTIST_Queen/Rollingstones_0/1, dtype: int64"
      ]
     },
     "execution_count": 16,
     "metadata": {},
     "output_type": "execute_result"
    }
   ],
   "source": [
    "y_train.value_counts()"
   ]
  },
  {
   "cell_type": "code",
   "execution_count": 17,
   "metadata": {
    "colab": {},
    "colab_type": "code",
    "id": "I6cu7gfkIBcr"
   },
   "outputs": [
    {
     "name"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\n",
      "text/plain": [
       "<Figure size 1440x1440 with 1 Axes>"
      ]
     },
     "metadata": {
      "needs_background": "light"
     },
     "output_type": "display_data"
    }
   ],
   "source": [
    "import numpy as np\n",
    "from matplotlib import pyplot as plt\n",
    "import wordcloud\n",
    "from PIL import Image\n",
    "\n",
    "\n",
    "text = df_q.SONGS.str.cat()\n",
    "mask = np.zeros((500, 500, 3), np.uint8)\n",
    "mask[150:350,150:350,:] = 255  # masked out area\n",
    "#mask = np.array(Image.open('circle.png'))\n",
    "\n",
    "cloud = wordcloud.WordCloud(background_color=\"white\",\n",
    "                max_words=50,\n",
    "                mask=mask,\n",
    "                collocations=False,  # calculates frequencies\n",
    "                contour_color='steelblue').generate(text)\n",
    "                # stop words are removed!\n",
    "\n",
    "plt.figure(figsize = (20,20))\n",
    "plt.imshow(cloud, interpolation='bilinear')\n",
    "plt.savefig('cloud.png')\n",
    "plt.show()"
   ]
  },
  {
   "cell_type": "markdown",
   "metadata": {},
   "source": [
    "### Count Vectorizer"
   ]
  },
  {
   "cell_type": "code",
   "execution_count": null,
   "metadata": {},
   "outputs": [],
   "source": [
    "from sklearn.feature_extraction.text import CountVectorizer\n",
    "\n",
    "corpus= df['songs']\n",
    "corpus"
   ]
  },
  {
   "cell_type": "code",
   "execution_count": null,
   "metadata": {},
   "outputs": [],
   "source": [
    "cv = CountVectorizer(stop_words='english') # word combinations: 'ngram_range=(1,2)'\n",
    "cv.fit(corpus)"
   ]
  },
  {
   "cell_type": "code",
   "execution_count": null,
   "metadata": {},
   "outputs": [],
   "source": [
    "vec_corpus = cv.transform(corpus)\n",
    "vec_corpus"
   ]
  },
  {
   "cell_type": "markdown",
   "metadata": {},
   "source": [
    "### Sparse Matrix"
   ]
  },
  {
   "cell_type": "code",
   "execution_count": null,
   "metadata": {},
   "outputs": [],
   "source": [
    "vec_corpus.todense()"
   ]
  },
  {
   "cell_type": "code",
   "execution_count": null,
   "metadata": {},
   "outputs": [],
   "source": [
    "df = pd.DataFrame(vec_corpus.todense(), columns=cv.get_feature_names())\n",
    "df.head(3)"
   ]
  },
  {
   "cell_type": "markdown",
   "metadata": {},
   "source": [
    "### Tf-Idf Transformer: scale words based on their uniqueness"
   ]
  },
  {
   "cell_type": "code",
   "execution_count": null,
   "metadata": {},
   "outputs": [],
   "source": [
    "from sklearn.feature_extraction.text import TfidfTransformer\n",
    "#from sklearn.feature_extraction.text import TfidfVectorizer # This does both steps (count vectorizer and tfidfTransfomer) in one"
   ]
  },
  {
   "cell_type": "code",
   "execution_count": null,
   "metadata": {},
   "outputs": [],
   "source": [
    "tf = TfidfTransformer()\n",
    "tf_corpus = tf.fit_transform(vec_corpus)\n",
    "tf_corpus"
   ]
  },
  {
   "cell_type": "code",
   "execution_count": null,
   "metadata": {},
   "outputs": [],
   "source": [
    "df2 = pd.DataFrame(tf_corpus.todense().round(2), columns=cv.get_feature_names())\n",
    "df2"
   ]
  }
 ],
 "metadata": {
  "kernelspec": {
   "display_name": "Python 3",
   "language": "python",
   "name": "python3"
  },
  "language_info": {
   "codemirror_mode": {
    "name": "ipython",
    "version": 3
   },
   "file_extension": ".py",
   "mimetype": "text/x-python",
   "name": "python",
   "nbconvert_exporter": "python",
   "pygments_lexer": "ipython3",
   "version": "3.7.6"
  }
 },
 "nbformat": 4,
 "nbformat_minor": 4
}
                                                                                                                     ��6q9�~�������U���=�R0"�p�J�j��K.~}�C��O�QǙ����O����M��ק�=�Y��#��N��>��]�T��đ6��L��Xml���=/�����M��6�x\������Mf��,(�PQ]���#�a�k��O/P��-O�>��|ρ�-�:�d)T���v�YcQ��B<�4.���U>���`�=�e�;�6i.y��tH2�����dl7(��h����$i��tn�4�!��{��4��|�7�V�)���qa*�������F&Fb���hAq�tx��$�%�L�I�;o7�:�)�����b�S�q�F���w�m�Su�!���*�W�Rs
\s��������V���h�j��7�ZM�[�Q�@ˏ21cjr�k�_.�8> kӗ��6&�6baԌ�L�}�,a��Tf�����<ji�%KA<ty�OO{�}J�[ѣQ&'�wz����z[����K�6�%]�f�e���ֲt��j�@#�#�`wt�}̑~w�9 ����V��b���g���A���f42�H�E+��d۸Ǿ�?6d3�*�@�'����?�<�	^w,�y;���0����oJs&g������.'%��	�6'U�`��UWמ�<a�U��^���-H�����s�!�^��&
���9�yE���&V���M�VT���n�C�T�)� ����)FR�+q���4oz{��,�:2�010�ja`��}X}�W��#�$�s�@�ΞZ����'K���q~����W�㩕�~����c��CF�X�����$R6~��Y�e���?�M����>�a�.7a����o;3���������$p�"Nc�g"�ݣ.��tH�{C#N݆��&��s�4]�y��d�(�W�G�`8�I?�T���#W�K��M�(�l�}M���1���!���7F024jH�n�ys³��F����7A��L��[�����P��\�!���_�=��
��)�Kh��٬�ִW�Y��sg+���X�ſ����D>\�0i�d;�>/�^%��q���/>>J(���q�Q;1�ڧ�&���|?�BgSZ(+�Q�w��fv-Y�vb%m9&8����=z(t�現QR�~�33bn4�u��`{d5���f�����U6���r���S�w�G;�o�JI�c�Y{�1Ƀ��u����>YE�\�� ���ᘠk���;1�S������9:�"Q����=41�OY|^�94N�E9cvI���B"l3�l����{�&��o���D�<���cYC�%�O�億�s�e������ߥ��"(rOR>﯑�WʁG~�+�����z���<7?�`��k�1�I���j�2�^X�:N���	0n��0&އ_�&E����v�|6}�8{~�>�&}�B�g��z�US����Y�j���ɘ���GO#Q��؂������[X���?1R� ����9�@�6y�������᎘\qϿ'%ҏ-���.?�:�����o�8�� i�[s�/���
�����\��@�hhƽ�