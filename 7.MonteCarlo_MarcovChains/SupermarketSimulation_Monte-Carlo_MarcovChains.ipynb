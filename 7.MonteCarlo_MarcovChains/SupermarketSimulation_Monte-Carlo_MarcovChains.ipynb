{
 "cells": [
  {
   "cell_type": "code",
   "execution_count": 109,
   "metadata": {},
   "outputs": [],
   "source": [
    "import pandas as pd\n",
    "import numpy as np"
   ]
  },
  {
   "cell_type": "code",
   "execution_count": 110,
   "metadata": {},
   "outputs": [],
   "source": [
    "def transform(df):\n",
    "    df['timestamp'], df['customer_no'], df['location'] = df['timestamp;customer_no;location'].str.split(';').str\n",
    "    df.drop(columns='timestamp;customer_no;location', inplace=True)\n",
    "    df['customer_no']= pd.to_numeric(df['customer_no'])\n",
    "    df['timestamp']=pd.to_datetime(df['timestamp'])\n",
    "    \n",
    "    df=df.sort_values(['customer_no','timestamp'])\n",
    "    df['following_location']=df.groupby('customer_no')['location'].shift(-1)\n",
    "    \n",
    "    df['time'] =df['timestamp'].dt.time\n",
    "    df['following_timestamp']=df.groupby('customer_no')['timestamp'].shift(-1)\n",
    "    df['time_diff']=(pd.to_datetime(df['following_timestamp']) - pd.to_datetime(df['timestamp'])).astype('timedelta64[m]')\n",
    "    \n",
    "    df['hour'] =df['timestamp'].dt.hour\n",
    "    df['day'] =df['timestamp'].dt.day_name()\n",
    "    df['week'] =df['timestamp'].dt.week\n",
    "    df['month'] =df['timestamp'].dt.month\n",
    "    df['year'] =df['timestamp'].dt.year\n",
    "    \n",
    "    df['customer_id']=df['customer_no'].astype(str)+'_'+df['day']\n",
    "    \n",
    "    df_first=pd.DataFrame()\n",
    "    df_first['1st_location']=df.groupby('customer_no')['timestamp'].min()\n",
    "    df_first['first_location']= \"First_location\"\n",
    "    df = pd.merge(df, df_first, how='left', left_on=['customer_no','timestamp'], right_on = ['customer_no','1st_location'])\n",
    "    df.drop(columns='1st_location', inplace=True)\n",
    " \n",
    "    return df"
   ]
  },
  {
   "cell_type": "code",
   "execution_count": 111,
   "metadata": {},
   "outputs": [
    {
     "name": "stderr",
     "output_type": "stream",
     "text": [
      "C:\\Users\\Admin\\anaconda3\\lib\\site-packages\\ipykernel_launcher.py:2: FutureWarning: Columnar iteration over characters will be deprecated in future releases.\n",
      "  \n"
     ]
    },
    {
     "data": {
      "text/plain": [
       "timestamp              datetime64[ns]\n",
       "customer_no                     int64\n",
       "location                       object\n",
       "following_location             object\n",
       "time                           object\n",
       "following_timestamp    datetime64[ns]\n",
       "time_diff                     float64\n",
       "hour                            int64\n",
       "day                            object\n",
       "week                            int64\n",
       "month                           int64\n",
       "year                            int64\n",
       "customer_id                    object\n",
       "first_location                 object\n",
       "dtype: object"
      ]
     },
     "execution_count": 111,
     "metadata": {},
     "output_type": "execute_result"
    }
   ],
   "source": [
    "df_mon=transform(pd.read_csv('monday.csv'))\n",
    "df_tue=transform(pd.read_csv('tuesday.csv'))\n",
    "df_wed=transform(pd.read_csv('wednesday.csv'))\n",
    "df_thu=transform(pd.read_csv('thursday.csv'))\n",
    "df_fri=transform(pd.read_csv('friday.csv'))\n",
    "df_mon.dtypes"
   ]
  },
  {
   "cell_type": "code",
   "execution_count": 112,
   "metadata": {},
   "outputs": [
    {
     "data": {
      "text/html": [
       "<div>\n",
       "<style scoped>\n",
       "    .dataframe tbody tr th:only-of-type {\n",
       "        vertical-align: middle;\n",
       "    }\n",
       "\n",
       "    .dataframe tbody tr th {\n",
       "        vertical-align: top;\n",
       "    }\n",
       "\n",
       "    .dataframe thead th {\n",
       "        text-align: right;\n",
       "    }\n",
       "</style>\n",
       "<table border=\"1\" class=\"dataframe\">\n",
       "  <thead>\n",
       "    <tr style=\"text-align: right;\">\n",
       "      <th></th>\n",
       "      <th>timestamp</th>\n",
       "      <th>customer_no</th>\n",
       "      <th>location</th>\n",
       "      <th>following_location</th>\n",
       "      <th>time</th>\n",
       "      <th>following_timestamp</th>\n",
       "      <th>time_diff</th>\n",
       "      <th>hour</th>\n",
       "      <th>day</th>\n",
       "      <th>week</th>\n",
       "      <th>month</th>\n",
       "      <th>year</th>\n",
       "      <th>customer_id</th>\n",
       "      <th>first_location</th>\n",
       "    </tr>\n",
       "  </thead>\n",
       "  <tbody>\n",
       "    <tr>\n",
       "      <th>0</th>\n",
       "      <td>2019-09-02 07:03:00</td>\n",
       "      <td>1</td>\n",
       "      <td>dairy</td>\n",
       "      <td>checkout</td>\n",
       "      <td>07:03:00</td>\n",
       "      <td>2019-09-02 07:05:00</td>\n",
       "      <td>2.0</td>\n",
       "      <td>7</td>\n",
       "      <td>Monday</td>\n",
       "      <td>36</td>\n",
       "      <td>9</td>\n",
       "      <td>2019</td>\n",
       "      <td>1_Monday</td>\n",
       "      <td>First_location</td>\n",
       "    </tr>\n",
       "    <tr>\n",
       "      <th>1</th>\n",
       "      <td>2019-09-02 07:05:00</td>\n",
       "      <td>1</td>\n",
       "      <td>checkout</td>\n",
       "      <td>NaN</td>\n",
       "      <td>07:05:00</td>\n",
       "      <td>NaT</td>\n",
       "      <td>NaN</td>\n",
       "      <td>7</td>\n",
       "      <td>Monday</td>\n",
       "      <td>36</td>\n",
       "      <td>9</td>\n",
       "      <td>2019</td>\n",
       "      <td>1_Monday</td>\n",
       "      <td>NaN</td>\n",
       "    </tr>\n",
       "    <tr>\n",
       "      <th>2</th>\n",
       "      <td>2019-09-02 07:03:00</td>\n",
       "      <td>2</td>\n",
       "      <td>dairy</td>\n",
       "      <td>checkout</td>\n",
       "      <td>07:03:00</td>\n",
       "      <td>2019-09-02 07:06:00</td>\n",
       "      <td>3.0</td>\n",
       "      <td>7</td>\n",
       "      <td>Monday</td>\n",
       "      <td>36</td>\n",
       "      <td>9</td>\n",
       "      <td>2019</td>\n",
       "      <td>2_Monday</td>\n",
       "      <td>First_location</td>\n",
       "    </tr>\n",
       "    <tr>\n",
       "      <th>3</th>\n",
       "      <td>2019-09-02 07:06:00</td>\n",
       "      <td>2</td>\n",
       "      <td>checkout</td>\n",
       "      <td>NaN</td>\n",
       "      <td>07:06:00</td>\n",
       "      <td>NaT</td>\n",
       "      <td>NaN</td>\n",
       "      <td>7</td>\n",
       "      <td>Monday</td>\n",
       "      <td>36</td>\n",
       "      <td>9</td>\n",
       "      <td>2019</td>\n",
       "      <td>2_Monday</td>\n",
       "      <td>NaN</td>\n",
       "    </tr>\n",
       "    <tr>\n",
       "      <th>4</th>\n",
       "      <td>2019-09-02 07:04:00</td>\n",
       "      <td>3</td>\n",
       "      <td>dairy</td>\n",
       "      <td>checkout</td>\n",
       "      <td>07:04:00</td>\n",
       "      <td>2019-09-02 07:06:00</td>\n",
       "      <td>2.0</td>\n",
       "      <td>7</td>\n",
       "      <td>Monday</td>\n",
       "      <td>36</td>\n",
       "      <td>9</td>\n",
       "      <td>2019</td>\n",
       "      <td>3_Monday</td>\n",
       "      <td>First_location</td>\n",
       "    </tr>\n",
       "    <tr>\n",
       "      <th>...</th>\n",
       "      <td>...</td>\n",
       "      <td>...</td>\n",
       "      <td>...</td>\n",
       "      <td>...</td>\n",
       "      <td>...</td>\n",
       "      <td>...</td>\n",
       "      <td>...</td>\n",
       "      <td>...</td>\n",
       "      <td>...</td>\n",
       "      <td>...</td>\n",
       "      <td>...</td>\n",
       "      <td>...</td>\n",
       "      <td>...</td>\n",
       "      <td>...</td>\n",
       "    </tr>\n",
       "    <tr>\n",
       "      <th>5120</th>\n",
       "      <td>2019-09-06 21:50:00</td>\n",
       "      <td>1507</td>\n",
       "      <td>checkout</td>\n",
       "      <td>NaN</td>\n",
       "      <td>21:50:00</td>\n",
       "      <td>NaT</td>\n",
       "      <td>NaN</td>\n",
       "      <td>21</td>\n",
       "      <td>Friday</td>\n",
       "      <td>36</td>\n",
       "      <td>9</td>\n",
       "      <td>2019</td>\n",
       "      <td>1507_Friday</td>\n",
       "      <td>NaN</td>\n",
       "    </tr>\n",
       "    <tr>\n",
       "      <th>5121</th>\n",
       "      <td>2019-09-06 21:48:00</td>\n",
       "      <td>1508</td>\n",
       "      <td>dairy</td>\n",
       "      <td>checkout</td>\n",
       "      <td>21:48:00</td>\n",
       "      <td>2019-09-06 21:50:00</td>\n",
       "      <td>2.0</td>\n",
       "      <td>21</td>\n",
       "      <td>Friday</td>\n",
       "      <td>36</td>\n",
       "      <td>9</td>\n",
       "      <td>2019</td>\n",
       "      <td>1508_Friday</td>\n",
       "      <td>First_location</td>\n",
       "    </tr>\n",
       "    <tr>\n",
       "      <th>5122</th>\n",
       "      <td>2019-09-06 21:50:00</td>\n",
       "      <td>1508</td>\n",
       "      <td>checkout</td>\n",
       "      <td>NaN</td>\n",
       "      <td>21:50:00</td>\n",
       "      <td>NaT</td>\n",
       "      <td>NaN</td>\n",
       "      <td>21</td>\n",
       "      <td>Friday</td>\n",
       "      <td>36</td>\n",
       "      <td>9</td>\n",
       "      <td>2019</td>\n",
       "      <td>1508_Friday</td>\n",
       "      <td>NaN</td>\n",
       "    </tr>\n",
       "    <tr>\n",
       "      <th>5123</th>\n",
       "      <td>2019-09-06 21:50:00</td>\n",
       "      <td>1509</td>\n",
       "      <td>drinks</td>\n",
       "      <td>NaN</td>\n",
       "      <td>21:50:00</td>\n",
       "      <td>NaT</td>\n",
       "      <td>NaN</td>\n",
       "      <td>21</td>\n",
       "      <td>Friday</td>\n",
       "      <td>36</td>\n",
       "      <td>9</td>\n",
       "      <td>2019</td>\n",
       "      <td>1509_Friday</td>\n",
       "      <td>First_location</td>\n",
       "    </tr>\n",
       "    <tr>\n",
       "      <th>5124</th>\n",
       "      <td>2019-09-06 21:50:00</td>\n",
       "      <td>1510</td>\n",
       "      <td>spices</td>\n",
       "      <td>NaN</td>\n",
       "      <td>21:50:00</td>\n",
       "      <td>NaT</td>\n",
       "      <td>NaN</td>\n",
       "      <td>21</td>\n",
       "      <td>Friday</td>\n",
       "      <td>36</td>\n",
       "      <td>9</td>\n",
       "      <td>2019</td>\n",
       "      <td>1510_Friday</td>\n",
       "      <td>First_location</td>\n",
       "    </tr>\n",
       "  </tbody>\n",
       "</table>\n",
       "<p>24877 rows × 14 columns</p>\n",
       "</div>"
      ],
      "text/plain": [
       "               timestamp  customer_no  location following_location      time  \\\n",
       "0    2019-09-02 07:03:00            1     dairy           checkout  07:03:00   \n",
       "1    2019-09-02 07:05:00            1  checkout                NaN  07:05:00   \n",
       "2    2019-09-02 07:03:00            2     dairy           checkout  07:03:00   \n",
       "3    2019-09-02 07:06:00            2  checkout                NaN  07:06:00   \n",
       "4    2019-09-02 07:04:00            3     dairy           checkout  07:04:00   \n",
       "...                  ...          ...       ...                ...       ...   \n",
       "5120 2019-09-06 21:50:00         1507  checkout                NaN  21:50:00   \n",
       "5121 2019-09-06 21:48:00         1508     dairy           checkout  21:48:00   \n",
       "5122 2019-09-06 21:50:00         1508  checkout                NaN  21:50:00   \n",
       "5123 2019-09-06 21:50:00         1509    drinks                NaN  21:50:00   \n",
       "5124 2019-09-06 21:50:00         1510    spices                NaN  21:50:00   \n",
       "\n",
       "     following_timestamp  time_diff  hour     day  week  month  year  \\\n",
       "0    2019-09-02 07:05:00        2.0     7  Monday    36      9  2019   \n",
       "1                    NaT        NaN     7  Monday    36      9  2019   \n",
       "2    2019-09-02 07:06:00        3.0     7  Monday    36      9  2019   \n",
       "3                    NaT        NaN     7  Monday    36      9  2019   \n",
       "4    2019-09-02 07:06:00        2.0     7  Monday    36      9  2019   \n",
       "...                  ...        ...   ...     ...   ...    ...   ...   \n",
       "5120                 NaT        NaN    21  Friday    36      9  2019   \n",
       "5121 2019-09-06 21:50:00        2.0    21  Friday    36      9  2019   \n",
       "5122                 NaT        NaN    21  Friday    36      9  2019   \n",
       "5123                 NaT        NaN    21  Friday    36      9  2019   \n",
       "5124                 NaT        NaN    21  Friday    36      9  2019   \n",
       "\n",
       "      customer_id  first_location  \n",
       "0        1_Monday  First_location  \n",
       "1        1_Monday             NaN  \n",
       "2        2_Monday  First_location  \n",
       "3        2_Monday             NaN  \n",
       "4        3_Monday  First_location  \n",
       "...           ...             ...  \n",
       "5120  1507_Friday             NaN  \n",
       "5121  1508_Friday  First_location  \n",
       "5122  1508_Friday             NaN  \n",
       "5123  1509_Friday  First_location  \n",
       "5124  1510_Friday  First_location  \n",
       "\n",
       "[24877 rows x 14 columns]"
      ]
     },
     "execution_count": 112,
     "metadata": {},
     "output_type": "execute_result"
    }
   ],
   "source": [
    "df=df_mon.append(df_tue).append(df_wed).append(df_thu).append(df_fri)\n",
    "df"
   ]
  },
  {
   "cell_type": "code",
   "execution_count": 113,
   "metadata": {},
   "outputs": [
    {
     "data": {
      "text/html": [
       "<div>\n",
       "<style scoped>\n",
       "    .dataframe tbody tr th:only-of-type {\n",
       "        vertical-align: middle;\n",
       "    }\n",
       "\n",
       "    .dataframe tbody tr th {\n",
       "        vertical-align: top;\n",
       "    }\n",
       "\n",
       "    .dataframe thead th {\n",
       "        text-align: right;\n",
       "    }\n",
       "</style>\n",
       "<table border=\"1\" class=\"dataframe\">\n",
       "  <thead>\n",
       "    <tr style=\"text-align: right;\">\n",
       "      <th></th>\n",
       "      <th>customer_no</th>\n",
       "      <th>time_diff</th>\n",
       "      <th>hour</th>\n",
       "      <th>week</th>\n",
       "      <th>month</th>\n",
       "      <th>year</th>\n",
       "    </tr>\n",
       "  </thead>\n",
       "  <tbody>\n",
       "    <tr>\n",
       "      <th>count</th>\n",
       "      <td>24877.000000</td>\n",
       "      <td>17432.000000</td>\n",
       "      <td>24877.000000</td>\n",
       "      <td>24877.0</td>\n",
       "      <td>24877.0</td>\n",
       "      <td>24877.0</td>\n",
       "    </tr>\n",
       "    <tr>\n",
       "      <th>mean</th>\n",
       "      <td>745.139647</td>\n",
       "      <td>2.665099</td>\n",
       "      <td>14.125417</td>\n",
       "      <td>36.0</td>\n",
       "      <td>9.0</td>\n",
       "      <td>2019.0</td>\n",
       "    </tr>\n",
       "    <tr>\n",
       "      <th>std</th>\n",
       "      <td>429.478200</td>\n",
       "      <td>2.436890</td>\n",
       "      <td>4.324691</td>\n",
       "      <td>0.0</td>\n",
       "      <td>0.0</td>\n",
       "      <td>0.0</td>\n",
       "    </tr>\n",
       "    <tr>\n",
       "      <th>min</th>\n",
       "      <td>1.000000</td>\n",
       "      <td>1.000000</td>\n",
       "      <td>7.000000</td>\n",
       "      <td>36.0</td>\n",
       "      <td>9.0</td>\n",
       "      <td>2019.0</td>\n",
       "    </tr>\n",
       "    <tr>\n",
       "      <th>25%</th>\n",
       "      <td>372.000000</td>\n",
       "      <td>1.000000</td>\n",
       "      <td>10.000000</td>\n",
       "      <td>36.0</td>\n",
       "      <td>9.0</td>\n",
       "      <td>2019.0</td>\n",
       "    </tr>\n",
       "    <tr>\n",
       "      <th>50%</th>\n",
       "      <td>747.000000</td>\n",
       "      <td>2.000000</td>\n",
       "      <td>14.000000</td>\n",
       "      <td>36.0</td>\n",
       "      <td>9.0</td>\n",
       "      <td>2019.0</td>\n",
       "    </tr>\n",
       "    <tr>\n",
       "      <th>75%</th>\n",
       "      <td>1116.000000</td>\n",
       "      <td>3.000000</td>\n",
       "      <td>18.000000</td>\n",
       "      <td>36.0</td>\n",
       "      <td>9.0</td>\n",
       "      <td>2019.0</td>\n",
       "    </tr>\n",
       "    <tr>\n",
       "      <th>max</th>\n",
       "      <td>1535.000000</td>\n",
       "      <td>30.000000</td>\n",
       "      <td>21.000000</td>\n",
       "      <td>36.0</td>\n",
       "      <td>9.0</td>\n",
       "      <td>2019.0</td>\n",
       "    </tr>\n",
       "  </tbody>\n",
       "</table>\n",
       "</div>"
      ],
      "text/plain": [
       "        customer_no     time_diff          hour     week    month     year\n",
       "count  24877.000000  17432.000000  24877.000000  24877.0  24877.0  24877.0\n",
       "mean     745.139647      2.665099     14.125417     36.0      9.0   2019.0\n",
       "std      429.478200      2.436890      4.324691      0.0      0.0      0.0\n",
       "min        1.000000      1.000000      7.000000     36.0      9.0   2019.0\n",
       "25%      372.000000      1.000000     10.000000     36.0      9.0   2019.0\n",
       "50%      747.000000      2.000000     14.000000     36.0      9.0   2019.0\n",
       "75%     1116.000000      3.000000     18.000000     36.0      9.0   2019.0\n",
       "max     1535.000000     30.000000     21.000000     36.0      9.0   2019.0"
      ]
     },
     "execution_count": 113,
     "metadata": {},
     "output_type": "execute_result"
    }
   ],
   "source": [
    "df.describe()"
   ]
  },
  {
   "cell_type": "markdown",
   "metadata": {},
   "source": [
    "**The total number of customers in each section**"
   ]
  },
  {
   "cell_type": "code",
   "execution_count": 114,
   "metadata": {},
   "outputs": [
    {
     "data": {
      "text/plain": [
       "location\n",
       "checkout    7417\n",
       "fruit       5122\n",
       "dairy       4679\n",
       "drinks      3905\n",
       "spices      3754\n",
       "Name: customer_no, dtype: int64"
      ]
     },
     "execution_count": 114,
     "metadata": {},
     "output_type": "execute_result"
    }
   ],
   "source": [
    "df.groupby(['location'])['customer_no'].count().sort_values(ascending=False)"
   ]
  },
  {
   "cell_type": "code",
   "execution_count": 115,
   "metadata": {},
   "outputs": [
    {
     "data": {
      "text/plain": [
       "<matplotlib.axes._subplots.AxesSubplot at 0x1df70ff06c8>"
      ]
     },
     "execution_count": 115,
     "metadata": {},
     "output_type": "execute_result"
    },
    {
     "data": {
      "image/png": "[encoded data removed]",
      "text/plain": [
       "<Figure size 432x288 with 1 Axes>"
      ]
     },
     "metadata": {
      "needs_background": "light"
     },
     "output_type": "display_data"
    }
   ],
   "source": [
    "df.groupby(['location'])['customer_no'].count().sort_values().plot(kind='barh')"
   ]
  },
  {
   "cell_type": "markdown",
   "metadata": {},
   "source": [
    "**The total number of customers in each section over time**"
   ]
  },
  {
   "cell_type": "code",
   "execution_count": 116,
   "metadata": {},
   "outputs": [
    {
     "data": {
      "text/html": [
       "<div>\n",
       "<style scoped>\n",
       "    .dataframe tbody tr th:only-of-type {\n",
       "        vertical-align: middle;\n",
       "    }\n",
       "\n",
       "    .dataframe tbody tr th {\n",
       "        vertical-align: top;\n",
       "    }\n",
       "\n",
       "    .dataframe thead th {\n",
       "        text-align: right;\n",
       "    }\n",
       "</style>\n",
       "<table border=\"1\" class=\"dataframe\">\n",
       "  <thead>\n",
       "    <tr style=\"text-align: right;\">\n",
       "      <th>hour</th>\n",
       "      <th>7</th>\n",
       "      <th>8</th>\n",
       "      <th>9</th>\n",
       "      <th>10</th>\n",
       "      <th>11</th>\n",
       "      <th>12</th>\n",
       "      <th>13</th>\n",
       "      <th>14</th>\n",
       "      <th>15</th>\n",
       "      <th>16</th>\n",
       "      <th>17</th>\n",
       "      <th>18</th>\n",
       "      <th>19</th>\n",
       "      <th>20</th>\n",
       "      <th>21</th>\n",
       "    </tr>\n",
       "    <tr>\n",
       "      <th>location</th>\n",
       "      <th></th>\n",
       "      <th></th>\n",
       "      <th></th>\n",
       "      <th></th>\n",
       "      <th></th>\n",
       "      <th></th>\n",
       "      <th></th>\n",
       "      <th></th>\n",
       "      <th></th>\n",
       "      <th></th>\n",
       "      <th></th>\n",
       "      <th></th>\n",
       "      <th></th>\n",
       "      <th></th>\n",
       "      <th></th>\n",
       "    </tr>\n",
       "  </thead>\n",
       "  <tbody>\n",
       "    <tr>\n",
       "      <th>checkout</th>\n",
       "      <td>454</td>\n",
       "      <td>677</td>\n",
       "      <td>455</td>\n",
       "      <td>427</td>\n",
       "      <td>342</td>\n",
       "      <td>384</td>\n",
       "      <td>514</td>\n",
       "      <td>496</td>\n",
       "      <td>412</td>\n",
       "      <td>518</td>\n",
       "      <td>556</td>\n",
       "      <td>630</td>\n",
       "      <td>755</td>\n",
       "      <td>492</td>\n",
       "      <td>305</td>\n",
       "    </tr>\n",
       "    <tr>\n",
       "      <th>dairy</th>\n",
       "      <td>275</td>\n",
       "      <td>455</td>\n",
       "      <td>291</td>\n",
       "      <td>294</td>\n",
       "      <td>210</td>\n",
       "      <td>225</td>\n",
       "      <td>340</td>\n",
       "      <td>319</td>\n",
       "      <td>233</td>\n",
       "      <td>337</td>\n",
       "      <td>360</td>\n",
       "      <td>425</td>\n",
       "      <td>466</td>\n",
       "      <td>298</td>\n",
       "      <td>151</td>\n",
       "    </tr>\n",
       "    <tr>\n",
       "      <th>drinks</th>\n",
       "      <td>278</td>\n",
       "      <td>348</td>\n",
       "      <td>231</td>\n",
       "      <td>198</td>\n",
       "      <td>150</td>\n",
       "      <td>188</td>\n",
       "      <td>238</td>\n",
       "      <td>229</td>\n",
       "      <td>190</td>\n",
       "      <td>272</td>\n",
       "      <td>294</td>\n",
       "      <td>361</td>\n",
       "      <td>441</td>\n",
       "      <td>307</td>\n",
       "      <td>180</td>\n",
       "    </tr>\n",
       "    <tr>\n",
       "      <th>fruit</th>\n",
       "      <td>299</td>\n",
       "      <td>468</td>\n",
       "      <td>336</td>\n",
       "      <td>270</td>\n",
       "      <td>244</td>\n",
       "      <td>247</td>\n",
       "      <td>389</td>\n",
       "      <td>345</td>\n",
       "      <td>316</td>\n",
       "      <td>353</td>\n",
       "      <td>410</td>\n",
       "      <td>453</td>\n",
       "      <td>507</td>\n",
       "      <td>312</td>\n",
       "      <td>173</td>\n",
       "    </tr>\n",
       "    <tr>\n",
       "      <th>spices</th>\n",
       "      <td>238</td>\n",
       "      <td>342</td>\n",
       "      <td>207</td>\n",
       "      <td>242</td>\n",
       "      <td>165</td>\n",
       "      <td>208</td>\n",
       "      <td>273</td>\n",
       "      <td>261</td>\n",
       "      <td>184</td>\n",
       "      <td>262</td>\n",
       "      <td>269</td>\n",
       "      <td>346</td>\n",
       "      <td>389</td>\n",
       "      <td>246</td>\n",
       "      <td>122</td>\n",
       "    </tr>\n",
       "  </tbody>\n",
       "</table>\n",
       "</div>"
      ],
      "text/plain": [
       "hour       7    8    9    10   11   12   13   14   15   16   17   18   19  \\\n",
       "location                                                                    \n",
       "checkout  454  677  455  427  342  384  514  496  412  518  556  630  755   \n",
       "dairy     275  455  291  294  210  225  340  319  233  337  360  425  466   \n",
       "drinks    278  348  231  198  150  188  238  229  190  272  294  361  441   \n",
       "fruit     299  468  336  270  244  247  389  345  316  353  410  453  507   \n",
       "spices    238  342  207  242  165  208  273  261  184  262  269  346  389   \n",
       "\n",
       "hour       20   21  \n",
       "location            \n",
       "checkout  492  305  \n",
       "dairy     298  151  \n",
       "drinks    307  180  \n",
       "fruit     312  173  \n",
       "spices    246  122  "
      ]
     },
     "execution_count": 116,
     "metadata": {},
     "output_type": "execute_result"
    }
   ],
   "source": [
    "df.groupby(['hour', 'location'])['customer_no'].count().unstack().transpose()"
   ]
  },
  {
   "cell_type": "code",
   "execution_count": 117,
   "metadata": {},
   "outputs": [
    {
     "data": {
      "text/plain": [
       "<matplotlib.axes._subplots.AxesSubplot at 0x1df6fda8f08>"
      ]
     },
     "execution_count": 117,
     "metadata": {},
     "output_type": "execute_result"
    },
    {
     "data": {
      "image/png": "[encoded data removed]",
      "text/plain": [
       "<Figure size 792x360 with 1 Axes>"
      ]
     },
     "metadata": {
      "needs_background": "light"
     },
     "output_type": "display_data"
    }
   ],
   "source": [
    "df.groupby(['location', 'hour'])['customer_no'].count().unstack().transpose().plot(figsize=(11,5))"
   ]
  },
  {
   "cell_type": "markdown",
   "metadata": {},
   "source": [
    "**The number of customers at checkout over time**"
   ]
  },
  {
   "cell_type": "code",
   "execution_count": 118,
   "metadata": {},
   "outputs": [
    {
     "data": {
      "text/plain": [
       "<matplotlib.axes._subplots.AxesSubplot at 0x1df74372188>"
      ]
     },
     "execution_count": 118,
     "metadata": {},
     "output_type": "execute_result"
    },
    {
     "data": {
      "image/png": "[encoded data removed]",
      "text/plain": [
       "<Figure size 792x360 with 1 Axes>"
      ]
     },
     "metadata": {
      "needs_background": "light"
     },
     "output_type": "display_data"
    }
   ],
   "source": [
    "df[df['location']=='checkout'].groupby(['hour'])['customer_no'].count().plot(figsize=(11,5))"
   ]
  },
  {
   "cell_type": "markdown",
   "metadata": {},
   "source": [
    "**Time each customer spent in the market**"
   ]
  },
  {
   "cell_type": "code",
   "execution_count": 119,
   "metadata": {},
   "outputs": [
    {
     "data": {
      "text/plain": [
       "day        customer_no\n",
       "Friday     1               5.0\n",
       "           2               1.0\n",
       "           3              11.0\n",
       "           4               1.0\n",
       "           5              14.0\n",
       "                          ... \n",
       "Wednesday  1527            3.0\n",
       "           1528            3.0\n",
       "           1529            4.0\n",
       "           1530            3.0\n",
       "           1531            3.0\n",
       "Name: time_diff, Length: 7445, dtype: float64"
      ]
     },
     "execution_count": 119,
     "metadata": {},
     "output_type": "execute_result"
    }
   ],
   "source": [
    "df.groupby(['day','customer_no'])['time_diff'].sum()"
   ]
  },
  {
   "cell_type": "code",
   "execution_count": 120,
   "metadata": {},
   "outputs": [
    {
     "data": {
      "text/plain": [
       "52.0"
      ]
     },
     "execution_count": 120,
     "metadata": {},
     "output_type": "execute_result"
    }
   ],
   "source": [
    "df.groupby(['day','customer_no'])['time_diff'].sum().max()"
   ]
  },
  {
   "cell_type": "code",
   "execution_count": 121,
   "metadata": {},
   "outputs": [
    {
     "data": {
      "text/plain": [
       "0.0"
      ]
     },
     "execution_count": 121,
     "metadata": {},
     "output_type": "execute_result"
    }
   ],
   "source": [
    "df.groupby(['day','customer_no'])['time_diff'].sum().min()"
   ]
  },
  {
   "cell_type": "code",
   "execution_count": 122,
   "metadata": {},
   "outputs": [
    {
     "data": {
      "text/plain": [
       "6.240161182001343"
      ]
     },
     "execution_count": 122,
     "metadata": {},
     "output_type": "execute_result"
    }
   ],
   "source": [
    "df.groupby(['day','customer_no'])['time_diff'].sum().mean()"
   ]
  },
  {
   "cell_type": "markdown",
   "metadata": {},
   "source": [
    "**The total number of customers present in the supermarket over time.**"
   ]
  },
  {
   "cell_type": "code",
   "execution_count": 123,
   "metadata": {},
   "outputs": [
    {
     "name": "stdout",
     "output_type": "stream",
     "text": [
      "Total visitors Mo-Fr: 24877\n"
     ]
    }
   ],
   "source": [
    "print('Total visitors Mo-Fr:', df['customer_no'].count())"
   ]
  },
  {
   "cell_type": "code",
   "execution_count": 124,
   "metadata": {},
   "outputs": [
    {
     "data": {
      "text/plain": [
       "hour\n",
       "7     1544\n",
       "8     2290\n",
       "9     1520\n",
       "10    1431\n",
       "11    1111\n",
       "12    1252\n",
       "13    1754\n",
       "14    1650\n",
       "15    1335\n",
       "16    1742\n",
       "17    1889\n",
       "18    2215\n",
       "19    2558\n",
       "20    1655\n",
       "21     931\n",
       "Name: customer_no, dtype: int64"
      ]
     },
     "execution_count": 124,
     "metadata": {},
     "output_type": "execute_result"
    }
   ],
   "source": [
    "df.groupby('hour')['customer_no'].count()"
   ]
  },
  {
   "cell_type": "code",
   "execution_count": 125,
   "metadata": {},
   "outputs": [
    {
     "data": {
      "text/plain": [
       "<matplotlib.axes._subplots.AxesSubplot at 0x1df74524e88>"
      ]
     },
     "execution_count": 125,
     "metadata": {},
     "output_type": "execute_result"
    },
    {
     "data": {
      "image/png": "[encoded data removed]",
      "text/plain": [
       "<Figure size 792x360 with 1 Axes>"
      ]
     },
     "metadata": {
      "needs_background": "light"
     },
     "output_type": "display_data"
    }
   ],
   "source": [
    "df.groupby('hour')['customer_no'].count().plot(figsize=(11,5))"
   ]
  },
  {
   "cell_type": "code",
   "execution_count": 126,
   "metadata": {},
   "outputs": [
    {
     "data": {
      "text/plain": [
       "<matplotlib.axes._subplots.AxesSubplot at 0x1df74580988>"
      ]
     },
     "execution_count": 126,
     "metadata": {},
     "output_type": "execute_result"
    },
    {
     "data": {
      "image/png": "[encoded data removed]",
      "text/plain": [
       "<Figure size 792x360 with 1 Axes>"
      ]
     },
     "metadata": {
      "needs_background": "light"
     },
     "output_type": "display_data"
    }
   ],
   "source": [
    "df.groupby(['day', 'hour'])['customer_no'].count().unstack().transpose().plot(figsize=(11,5))"
   ]
  },
  {
   "cell_type": "markdown",
   "metadata": {},
   "source": [
    "**The distribution of customers of their first visited section versus following sections**"
   ]
  },
  {
   "cell_type": "code",
   "execution_count": 127,
   "metadata": {},
   "outputs": [
    {
     "data": {
      "text/html": [
       "<div>\n",
       "<style scoped>\n",
       "    .dataframe tbody tr th:only-of-type {\n",
       "        vertical-align: middle;\n",
       "    }\n",
       "\n",
       "    .dataframe tbody tr th {\n",
       "        vertical-align: top;\n",
       "    }\n",
       "\n",
       "    .dataframe thead th {\n",
       "        text-align: right;\n",
       "    }\n",
       "</style>\n",
       "<table border=\"1\" class=\"dataframe\">\n",
       "  <thead>\n",
       "    <tr style=\"text-align: right;\">\n",
       "      <th></th>\n",
       "      <th>timestamp</th>\n",
       "      <th>customer_no</th>\n",
       "      <th>location</th>\n",
       "      <th>following_location</th>\n",
       "      <th>time</th>\n",
       "      <th>following_timestamp</th>\n",
       "      <th>time_diff</th>\n",
       "      <th>hour</th>\n",
       "      <th>day</th>\n",
       "      <th>week</th>\n",
       "      <th>month</th>\n",
       "      <th>year</th>\n",
       "      <th>customer_id</th>\n",
       "      <th>first_location</th>\n",
       "    </tr>\n",
       "  </thead>\n",
       "  <tbody>\n",
       "    <tr>\n",
       "      <th>0</th>\n",
       "      <td>2019-09-02 07:03:00</td>\n",
       "      <td>1</td>\n",
       "      <td>dairy</td>\n",
       "      <td>checkout</td>\n",
       "      <td>07:03:00</td>\n",
       "      <td>2019-09-02 07:05:00</td>\n",
       "      <td>2.0</td>\n",
       "      <td>7</td>\n",
       "      <td>Monday</td>\n",
       "      <td>36</td>\n",
       "      <td>9</td>\n",
       "      <td>2019</td>\n",
       "      <td>1_Monday</td>\n",
       "      <td>first_location</td>\n",
       "    </tr>\n",
       "    <tr>\n",
       "      <th>1</th>\n",
       "      <td>2019-09-02 07:05:00</td>\n",
       "      <td>1</td>\n",
       "      <td>checkout</td>\n",
       "      <td>NaN</td>\n",
       "      <td>07:05:00</td>\n",
       "      <td>NaT</td>\n",
       "      <td>NaN</td>\n",
       "      <td>7</td>\n",
       "      <td>Monday</td>\n",
       "      <td>36</td>\n",
       "      <td>9</td>\n",
       "      <td>2019</td>\n",
       "      <td>1_Monday</td>\n",
       "      <td>following</td>\n",
       "    </tr>\n",
       "    <tr>\n",
       "      <th>2</th>\n",
       "      <td>2019-09-02 07:03:00</td>\n",
       "      <td>2</td>\n",
       "      <td>dairy</td>\n",
       "      <td>checkout</td>\n",
       "      <td>07:03:00</td>\n",
       "      <td>2019-09-02 07:06:00</td>\n",
       "      <td>3.0</td>\n",
       "      <td>7</td>\n",
       "      <td>Monday</td>\n",
       "      <td>36</td>\n",
       "      <td>9</td>\n",
       "      <td>2019</td>\n",
       "      <td>2_Monday</td>\n",
       "      <td>first_location</td>\n",
       "    </tr>\n",
       "    <tr>\n",
       "      <th>3</th>\n",
       "      <td>2019-09-02 07:06:00</td>\n",
       "      <td>2</td>\n",
       "      <td>checkout</td>\n",
       "      <td>NaN</td>\n",
       "      <td>07:06:00</td>\n",
       "      <td>NaT</td>\n",
       "      <td>NaN</td>\n",
       "      <td>7</td>\n",
       "      <td>Monday</td>\n",
       "      <td>36</td>\n",
       "      <td>9</td>\n",
       "      <td>2019</td>\n",
       "      <td>2_Monday</td>\n",
       "      <td>following</td>\n",
       "    </tr>\n",
       "    <tr>\n",
       "      <th>4</th>\n",
       "      <td>2019-09-02 07:04:00</td>\n",
       "      <td>3</td>\n",
       "      <td>dairy</td>\n",
       "      <td>checkout</td>\n",
       "      <td>07:04:00</td>\n",
       "      <td>2019-09-02 07:06:00</td>\n",
       "      <td>2.0</td>\n",
       "      <td>7</td>\n",
       "      <td>Monday</td>\n",
       "      <td>36</td>\n",
       "      <td>9</td>\n",
       "      <td>2019</td>\n",
       "      <td>3_Monday</td>\n",
       "      <td>first_location</td>\n",
       "    </tr>\n",
       "    <tr>\n",
       "      <th>...</th>\n",
       "      <td>...</td>\n",
       "      <td>...</td>\n",
       "      <td>...</td>\n",
       "      <td>...</td>\n",
       "      <td>...</td>\n",
       "      <td>...</td>\n",
       "      <td>...</td>\n",
       "      <td>...</td>\n",
       "      <td>...</td>\n",
       "      <td>...</td>\n",
       "      <td>...</td>\n",
       "      <td>...</td>\n",
       "      <td>...</td>\n",
       "      <td>...</td>\n",
       "    </tr>\n",
       "    <tr>\n",
       "      <th>5120</th>\n",
       "      <td>2019-09-06 21:50:00</td>\n",
       "      <td>1507</td>\n",
       "      <td>checkout</td>\n",
       "      <td>NaN</td>\n",
       "      <td>21:50:00</td>\n",
       "      <td>NaT</td>\n",
       "      <td>NaN</td>\n",
       "      <td>21</td>\n",
       "      <td>Friday</td>\n",
       "      <td>36</td>\n",
       "      <td>9</td>\n",
       "      <td>2019</td>\n",
       "      <td>1507_Friday</td>\n",
       "      <td>following</td>\n",
       "    </tr>\n",
       "    <tr>\n",
       "      <th>5121</th>\n",
       "      <td>2019-09-06 21:48:00</td>\n",
       "      <td>1508</td>\n",
       "      <td>dairy</td>\n",
       "      <td>checkout</td>\n",
       "      <td>21:48:00</td>\n",
       "      <td>2019-09-06 21:50:00</td>\n",
       "      <td>2.0</td>\n",
       "      <td>21</td>\n",
       "      <td>Friday</td>\n",
       "      <td>36</td>\n",
       "      <td>9</td>\n",
       "      <td>2019</td>\n",
       "      <td>1508_Friday</td>\n",
       "      <td>first_location</td>\n",
       "    </tr>\n",
       "    <tr>\n",
       "      <th>5122</th>\n",
       "      <td>2019-09-06 21:50:00</td>\n",
       "      <td>1508</td>\n",
       "      <td>checkout</td>\n",
       "      <td>NaN</td>\n",
       "      <td>21:50:00</td>\n",
       "      <td>NaT</td>\n",
       "      <td>NaN</td>\n",
       "      <td>21</td>\n",
       "      <td>Friday</td>\n",
       "      <td>36</td>\n",
       "      <td>9</td>\n",
       "      <td>2019</td>\n",
       "      <td>1508_Friday</td>\n",
       "      <td>following</td>\n",
       "    </tr>\n",
       "    <tr>\n",
       "      <th>5123</th>\n",
       "      <td>2019-09-06 21:50:00</td>\n",
       "      <td>1509</td>\n",
       "      <td>drinks</td>\n",
       "      <td>NaN</td>\n",
       "      <td>21:50:00</td>\n",
       "      <td>NaT</td>\n",
       "      <td>NaN</td>\n",
       "      <td>21</td>\n",
       "      <td>Friday</td>\n",
       "      <td>36</td>\n",
       "      <td>9</td>\n",
       "      <td>2019</td>\n",
       "      <td>1509_Friday</td>\n",
       "      <td>first_location</td>\n",
       "    </tr>\n",
       "    <tr>\n",
       "      <th>5124</th>\n",
       "      <td>2019-09-06 21:50:00</td>\n",
       "      <td>1510</td>\n",
       "      <td>spices</td>\n",
       "      <td>NaN</td>\n",
       "      <td>21:50:00</td>\n",
       "      <td>NaT</td>\n",
       "      <td>NaN</td>\n",
       "      <td>21</td>\n",
       "      <td>Friday</td>\n",
       "      <td>36</td>\n",
       "      <td>9</td>\n",
       "      <td>2019</td>\n",
       "      <td>1510_Friday</td>\n",
       "      <td>first_location</td>\n",
       "    </tr>\n",
       "  </tbody>\n",
       "</table>\n",
       "<p>24877 rows × 14 columns</p>\n",
       "</div>"
      ],
      "text/plain": [
       "               timestamp  customer_no  location following_location      time  \\\n",
       "0    2019-09-02 07:03:00            1     dairy           checkout  07:03:00   \n",
       "1    2019-09-02 07:05:00            1  checkout                NaN  07:05:00   \n",
       "2    2019-09-02 07:03:00            2     dairy           checkout  07:03:00   \n",
       "3    2019-09-02 07:06:00            2  checkout                NaN  07:06:00   \n",
       "4    2019-09-02 07:04:00            3     dairy           checkout  07:04:00   \n",
       "...                  ...          ...       ...                ...       ...   \n",
       "5120 2019-09-06 21:50:00         1507  checkout                NaN  21:50:00   \n",
       "5121 2019-09-06 21:48:00         1508     dairy           checkout  21:48:00   \n",
       "5122 2019-09-06 21:50:00         1508  checkout                NaN  21:50:00   \n",
       "5123 2019-09-06 21:50:00         1509    drinks                NaN  21:50:00   \n",
       "5124 2019-09-06 21:50:00         1510    spices                NaN  21:50:00   \n",
       "\n",
       "     following_timestamp  time_diff  hour     day  week  month  year  \\\n",
       "0    2019-09-02 07:05:00        2.0     7  Monday    36      9  2019   \n",
       "1                    NaT        NaN     7  Monday    36      9  2019   \n",
       "2    2019-09-02 07:06:00        3.0     7  Monday    36      9  2019   \n",
       "3                    NaT        NaN     7  Monday    36      9  2019   \n",
       "4    2019-09-02 07:06:00        2.0     7  Monday    36      9  2019   \n",
       "...                  ...        ...   ...     ...   ...    ...   ...   \n",
       "5120                 NaT        NaN    21  Friday    36      9  2019   \n",
       "5121 2019-09-06 21:50:00        2.0    21  Friday    36      9  2019   \n",
       "5122                 NaT        NaN    21  Friday    36      9  2019   \n",
       "5123                 NaT        NaN    21  Friday    36      9  2019   \n",
       "5124                 NaT        NaN    21  Friday    36      9  2019   \n",
       "\n",
       "      customer_id  first_location  \n",
       "0        1_Monday  first_location  \n",
       "1        1_Monday       following  \n",
       "2        2_Monday  first_location  \n",
       "3        2_Monday       following  \n",
       "4        3_Monday  first_location  \n",
       "...           ...             ...  \n",
       "5120  1507_Friday       following  \n",
       "5121  1508_Friday  first_location  \n",
       "5122  1508_Friday       following  \n",
       "5123  1509_Friday  first_location  \n",
       "5124  1510_Friday  first_location  \n",
       "\n",
       "[24877 rows x 14 columns]"
      ]
     },
     "execution_count": 127,
     "metadata": {},
     "output_type": "execute_result"
    }
   ],
   "source": [
    "listloc=[]\n",
    "\n",
    "for i,row in df.iterrows():\n",
    "    \n",
    "    loc = row['first_location']\n",
    "    \n",
    "    if loc == 'First_location':\n",
    "        loc2 = 'first_location'\n",
    "    else:\n",
    "        loc2 = 'following'\n",
    "    listloc.append(loc2)\n",
    "\n",
    "df['first_location']=listloc\n",
    "\n",
    "# df.groupby('first_location')['customer_no'].count()\n",
    "df"
   ]
  },
  {
   "cell_type": "code",
   "execution_count": 128,
   "metadata": {},
   "outputs": [
    {
     "data": {
      "text/plain": [
       "<matplotlib.axes._subplots.AxesSubplot at 0x1df745f0f48>"
      ]
     },
     "execution_count": 128,
     "metadata": {},
     "output_type": "execute_result"
    },
    {
     "data": {
      "image/png": "[encoded data removed]",
      "text/plain": [
       "<Figure size 432x288 with 1 Axes>"
      ]
     },
     "metadata": {
      "needs_background": "light"
     },
     "output_type": "display_data"
    }
   ],
   "source": [
    "df.groupby('first_location')['first_location'].count().plot(kind='barh')"
   ]
  },
  {
   "cell_type": "code",
   "execution_count": 129,
   "metadata": {},
   "outputs": [
    {
     "data": {
      "text/plain": [
       "<matplotlib.axes._subplots.AxesSubplot at 0x1df6f8be108>"
      ]
     },
     "execution_count": 129,
     "metadata": {},
     "output_type": "execute_result"
    },
    {
     "data": {
      "image/png": "[encoded data removed]",
      "text/plain": [
       "<Figure size 432x288 with 1 Axes>"
      ]
     },
     "metadata": {
      "needs_background": "light"
     },
     "output_type": "display_data"
    }
   ],
   "source": [
    "df[df['first_location']=='first_location'].groupby(['location'])['customer_no'].count().sort_values().plot(kind='barh')"
   ]
  },
  {
   "cell_type": "code",
   "execution_count": 130,
   "metadata": {},
   "outputs": [
    {
     "data": {
      "text/plain": [
       "location\n",
       "dairy     0.287576\n",
       "drinks    0.153526\n",
       "fruit     0.377435\n",
       "spices    0.181464\n",
       "Name: customer_no, dtype: float64"
      ]
     },
     "execution_count": 130,
     "metadata": {},
     "output_type": "execute_result"
    }
   ],
   "source": [
    "# initial state probabilities\n",
    "\n",
    "initial_state_proba = df[df['first_location']=='first_location'].groupby(['location'])['customer_no'].count() / \\\n",
    "df[df['first_location']=='first_location'].groupby(['location'])['customer_no'].count().sum()\n",
    "initial_state_proba"
   ]
  },
  {
   "cell_type": "code",
   "execution_count": 131,
   "metadata": {},
   "outputs": [
    {
     "data": {
      "text/plain": [
       "<matplotlib.axes._subplots.AxesSubplot at 0x1df70be8fc8>"
      ]
     },
     "execution_count": 131,
     "metadata": {},
     "output_type": "execute_result"
    },
    {
     "data": {
      "image/png": "[encoded data removed]",
      "text/plain": [
       "<Figure size 432x288 with 1 Axes>"
      ]
     },
     "metadata": {
      "needs_background": "light"
     },
     "output_type": "display_data"
    }
   ],
   "source": [
    "# Initial state distribution in %\n",
    "initial_state_proba.sort_values().plot(kind='barh')"
   ]
  },
  {
   "cell_type": "markdown",
   "metadata": {},
   "source": [
    "**Estimation of total revenue for a customer value**  \n",
    "**Which is the most profitable section?**"
   ]
  },
  {
   "cell_type": "code",
   "execution_count": 132,
   "metadata": {},
   "outputs": [],
   "source": [
    "# revenue per minute\n",
    "# fruit = 4\n",
    "# spices = 3\n",
    "# dairy = 5\n",
    "# drinks = 6"
   ]
  },
  {
   "cell_type": "code",
   "execution_count": 133,
   "metadata": {},
   "outputs": [],
   "source": [
    "listrev=[]\n",
    "\n",
    "for i,row in df.iterrows():\n",
    "    loc = row['location']\n",
    "    if loc == 'fruit':\n",
    "        rev = 4\n",
    "    elif loc == 'spices':\n",
    "        rev = 3\n",
    "    elif loc == 'dairy':\n",
    "        rev = 5\n",
    "    elif loc == 'drinks':\n",
    "        rev = 6\n",
    "    else:\n",
    "        rev = 0\n",
    "    listrev.append(rev)\n",
    "\n",
    "df['revenue_per_min']=listrev"
   ]
  },
  {
   "cell_type": "code",
   "execution_count": 134,
   "metadata": {},
   "outputs": [],
   "source": [
    "df['revenue'] = df['revenue_per_min']*df['time_diff']"
   ]
  },
  {
   "cell_type": "code",
   "execution_count": 135,
   "metadata": {},
   "outputs": [
    {
     "data": {
      "text/plain": [
       "dtype('float64')"
      ]
     },
     "execution_count": 135,
     "metadata": {},
     "output_type": "execute_result"
    }
   ],
   "source": [
    "df['revenue'].dtypes"
   ]
  },
  {
   "cell_type": "code",
   "execution_count": 136,
   "metadata": {},
   "outputs": [
    {
     "data": {
      "text/plain": [
       "location\n",
       "checkout        0.0\n",
       "dairy       88800.0\n",
       "drinks      58344.0\n",
       "fruit       50804.0\n",
       "spices      18819.0\n",
       "Name: revenue, dtype: float64"
      ]
     },
     "execution_count": 136,
     "metadata": {},
     "output_type": "execute_result"
    }
   ],
   "source": [
    "df.groupby('location')['revenue'].sum()"
   ]
  },
  {
   "cell_type": "code",
   "execution_count": 137,
   "metadata": {},
   "outputs": [
    {
     "data": {
      "text/plain": [
       "<matplotlib.axes._subplots.AxesSubplot at 0x1df76a41448>"
      ]
     },
     "execution_count": 137,
     "metadata": {},
     "output_type": "execute_result"
    },
    {
     "data": {
      "image/png": "[encoded data removed]",
      "text/plain": [
       "<Figure size 432x288 with 1 Axes>"
      ]
     },
     "metadata": {
      "needs_background": "light"
     },
     "output_type": "display_data"
    }
   ],
   "source": [
    "df[df['location']!='checkout'].groupby('location')['revenue'].sum().sort_values().plot(kind='barh')"
   ]
  },
  {
   "cell_type": "markdown",
   "metadata": {},
   "source": [
    "**Transition Probabilities**  \n"
   ]
  },
  {
   "cell_type": "code",
   "execution_count": 138,
   "metadata": {},
   "outputs": [
    {
     "data": {
      "text/html": [
       "<div>\n",
       "<style scoped>\n",
       "    .dataframe tbody tr th:only-of-type {\n",
       "        vertical-align: middle;\n",
       "    }\n",
       "\n",
       "    .dataframe tbody tr th {\n",
       "        vertical-align: top;\n",
       "    }\n",
       "\n",
       "    .dataframe thead th {\n",
       "        text-align: right;\n",
       "    }\n",
       "</style>\n",
       "<table border=\"1\" class=\"dataframe\">\n",
       "  <thead>\n",
       "    <tr style=\"text-align: right;\">\n",
       "      <th></th>\n",
       "      <th>timestamp</th>\n",
       "      <th>customer_no</th>\n",
       "      <th>location</th>\n",
       "      <th>following_location</th>\n",
       "      <th>time</th>\n",
       "      <th>following_timestamp</th>\n",
       "      <th>time_diff</th>\n",
       "      <th>hour</th>\n",
       "      <th>day</th>\n",
       "      <th>week</th>\n",
       "      <th>month</th>\n",
       "      <th>year</th>\n",
       "      <th>customer_id</th>\n",
       "      <th>first_location</th>\n",
       "      <th>revenue_per_min</th>\n",
       "      <th>revenue</th>\n",
       "    </tr>\n",
       "  </thead>\n",
       "  <tbody>\n",
       "    <tr>\n",
       "      <th>0</th>\n",
       "      <td>2019-09-02 07:03:00</td>\n",
       "      <td>1</td>\n",
       "      <td>dairy</td>\n",
       "      <td>checkout</td>\n",
       "      <td>07:03:00</td>\n",
       "      <td>2019-09-02 07:05:00</td>\n",
       "      <td>2.0</td>\n",
       "      <td>7</td>\n",
       "      <td>Monday</td>\n",
       "      <td>36</td>\n",
       "      <td>9</td>\n",
       "      <td>2019</td>\n",
       "      <td>1_Monday</td>\n",
       "      <td>first_location</td>\n",
       "      <td>5</td>\n",
       "      <td>10.0</td>\n",
       "    </tr>\n",
       "    <tr>\n",
       "      <th>2</th>\n",
       "      <td>2019-09-02 07:03:00</td>\n",
       "      <td>2</td>\n",
       "      <td>dairy</td>\n",
       "      <td>checkout</td>\n",
       "      <td>07:03:00</td>\n",
       "      <td>2019-09-02 07:06:00</td>\n",
       "      <td>3.0</td>\n",
       "      <td>7</td>\n",
       "      <td>Monday</td>\n",
       "      <td>36</td>\n",
       "      <td>9</td>\n",
       "      <td>2019</td>\n",
       "      <td>2_Monday</td>\n",
       "      <td>first_location</td>\n",
       "      <td>5</td>\n",
       "      <td>15.0</td>\n",
       "    </tr>\n",
       "    <tr>\n",
       "      <th>4</th>\n",
       "      <td>2019-09-02 07:04:00</td>\n",
       "      <td>3</td>\n",
       "      <td>dairy</td>\n",
       "      <td>checkout</td>\n",
       "      <td>07:04:00</td>\n",
       "      <td>2019-09-02 07:06:00</td>\n",
       "      <td>2.0</td>\n",
       "      <td>7</td>\n",
       "      <td>Monday</td>\n",
       "      <td>36</td>\n",
       "      <td>9</td>\n",
       "      <td>2019</td>\n",
       "      <td>3_Monday</td>\n",
       "      <td>first_location</td>\n",
       "      <td>5</td>\n",
       "      <td>10.0</td>\n",
       "    </tr>\n",
       "    <tr>\n",
       "      <th>6</th>\n",
       "      <td>2019-09-02 07:04:00</td>\n",
       "      <td>4</td>\n",
       "      <td>dairy</td>\n",
       "      <td>checkout</td>\n",
       "      <td>07:04:00</td>\n",
       "      <td>2019-09-02 07:08:00</td>\n",
       "      <td>4.0</td>\n",
       "      <td>7</td>\n",
       "      <td>Monday</td>\n",
       "      <td>36</td>\n",
       "      <td>9</td>\n",
       "      <td>2019</td>\n",
       "      <td>4_Monday</td>\n",
       "      <td>first_location</td>\n",
       "      <td>5</td>\n",
       "      <td>20.0</td>\n",
       "    </tr>\n",
       "    <tr>\n",
       "      <th>8</th>\n",
       "      <td>2019-09-02 07:04:00</td>\n",
       "      <td>5</td>\n",
       "      <td>spices</td>\n",
       "      <td>checkout</td>\n",
       "      <td>07:04:00</td>\n",
       "      <td>2019-09-02 07:05:00</td>\n",
       "      <td>1.0</td>\n",
       "      <td>7</td>\n",
       "      <td>Monday</td>\n",
       "      <td>36</td>\n",
       "      <td>9</td>\n",
       "      <td>2019</td>\n",
       "      <td>5_Monday</td>\n",
       "      <td>first_location</td>\n",
       "      <td>3</td>\n",
       "      <td>3.0</td>\n",
       "    </tr>\n",
       "    <tr>\n",
       "      <th>...</th>\n",
       "      <td>...</td>\n",
       "      <td>...</td>\n",
       "      <td>...</td>\n",
       "      <td>...</td>\n",
       "      <td>...</td>\n",
       "      <td>...</td>\n",
       "      <td>...</td>\n",
       "      <td>...</td>\n",
       "      <td>...</td>\n",
       "      <td>...</td>\n",
       "      <td>...</td>\n",
       "      <td>...</td>\n",
       "      <td>...</td>\n",
       "      <td>...</td>\n",
       "      <td>...</td>\n",
       "      <td>...</td>\n",
       "    </tr>\n",
       "    <tr>\n",
       "      <th>5112</th>\n",
       "      <td>2019-09-06 21:47:00</td>\n",
       "      <td>1503</td>\n",
       "      <td>dairy</td>\n",
       "      <td>drinks</td>\n",
       "      <td>21:47:00</td>\n",
       "      <td>2019-09-06 21:49:00</td>\n",
       "      <td>2.0</td>\n",
       "      <td>21</td>\n",
       "      <td>Friday</td>\n",
       "      <td>36</td>\n",
       "      <td>9</td>\n",
       "      <td>2019</td>\n",
       "      <td>1503_Friday</td>\n",
       "      <td>first_location</td>\n",
       "      <td>5</td>\n",
       "      <td>10.0</td>\n",
       "    </tr>\n",
       "    <tr>\n",
       "      <th>5114</th>\n",
       "      <td>2019-09-06 21:47:00</td>\n",
       "      <td>1504</td>\n",
       "      <td>fruit</td>\n",
       "      <td>checkout</td>\n",
       "      <td>21:47:00</td>\n",
       "      <td>2019-09-06 21:48:00</td>\n",
       "      <td>1.0</td>\n",
       "      <td>21</td>\n",
       "      <td>Friday</td>\n",
       "      <td>36</td>\n",
       "      <td>9</td>\n",
       "      <td>2019</td>\n",
       "      <td>1504_Friday</td>\n",
       "      <td>first_location</td>\n",
       "      <td>4</td>\n",
       "      <td>4.0</td>\n",
       "    </tr>\n",
       "    <tr>\n",
       "      <th>5116</th>\n",
       "      <td>2019-09-06 21:48:00</td>\n",
       "      <td>1505</td>\n",
       "      <td>fruit</td>\n",
       "      <td>dairy</td>\n",
       "      <td>21:48:00</td>\n",
       "      <td>2019-09-06 21:49:00</td>\n",
       "      <td>1.0</td>\n",
       "      <td>21</td>\n",
       "      <td>Friday</td>\n",
       "      <td>36</td>\n",
       "      <td>9</td>\n",
       "      <td>2019</td>\n",
       "      <td>1505_Friday</td>\n",
       "      <td>first_location</td>\n",
       "      <td>4</td>\n",
       "      <td>4.0</td>\n",
       "    </tr>\n",
       "    <tr>\n",
       "      <th>5119</th>\n",
       "      <td>2019-09-06 21:48:00</td>\n",
       "      <td>1507</td>\n",
       "      <td>dairy</td>\n",
       "      <td>checkout</td>\n",
       "      <td>21:48:00</td>\n",
       "      <td>2019-09-06 21:50:00</td>\n",
       "      <td>2.0</td>\n",
       "      <td>21</td>\n",
       "      <td>Friday</td>\n",
       "      <td>36</td>\n",
       "      <td>9</td>\n",
       "      <td>2019</td>\n",
       "      <td>1507_Friday</td>\n",
       "      <td>first_location</td>\n",
       "      <td>5</td>\n",
       "      <td>10.0</td>\n",
       "    </tr>\n",
       "    <tr>\n",
       "      <th>5121</th>\n",
       "      <td>2019-09-06 21:48:00</td>\n",
       "      <td>1508</td>\n",
       "      <td>dairy</td>\n",
       "      <td>checkout</td>\n",
       "      <td>21:48:00</td>\n",
       "      <td>2019-09-06 21:50:00</td>\n",
       "      <td>2.0</td>\n",
       "      <td>21</td>\n",
       "      <td>Friday</td>\n",
       "      <td>36</td>\n",
       "      <td>9</td>\n",
       "      <td>2019</td>\n",
       "      <td>1508_Friday</td>\n",
       "      <td>first_location</td>\n",
       "      <td>5</td>\n",
       "      <td>10.0</td>\n",
       "    </tr>\n",
       "  </tbody>\n",
       "</table>\n",
       "<p>17432 rows × 16 columns</p>\n",
       "</div>"
      ],
      "text/plain": [
       "               timestamp  customer_no location following_location      time  \\\n",
       "0    2019-09-02 07:03:00            1    dairy           checkout  07:03:00   \n",
       "2    2019-09-02 07:03:00            2    dairy           checkout  07:03:00   \n",
       "4    2019-09-02 07:04:00            3    dairy           checkout  07:04:00   \n",
       "6    2019-09-02 07:04:00            4    dairy           checkout  07:04:00   \n",
       "8    2019-09-02 07:04:00            5   spices           checkout  07:04:00   \n",
       "...                  ...          ...      ...                ...       ...   \n",
       "5112 2019-09-06 21:47:00         1503    dairy             drinks  21:47:00   \n",
       "5114 2019-09-06 21:47:00         1504    fruit           checkout  21:47:00   \n",
       "5116 2019-09-06 21:48:00         1505    fruit              dairy  21:48:00   \n",
       "5119 2019-09-06 21:48:00         1507    dairy           checkout  21:48:00   \n",
       "5121 2019-09-06 21:48:00         1508    dairy           checkout  21:48:00   \n",
       "\n",
       "     following_timestamp  time_diff  hour     day  week  month  year  \\\n",
       "0    2019-09-02 07:05:00        2.0     7  Monday    36      9  2019   \n",
       "2    2019-09-02 07:06:00        3.0     7  Monday    36      9  2019   \n",
       "4    2019-09-02 07:06:00        2.0     7  Monday    36      9  2019   \n",
       "6    2019-09-02 07:08:00        4.0     7  Monday    36      9  2019   \n",
       "8    2019-09-02 07:05:00        1.0     7  Monday    36      9  2019   \n",
       "...                  ...        ...   ...     ...   ...    ...   ...   \n",
       "5112 2019-09-06 21:49:00        2.0    21  Friday    36      9  2019   \n",
       "5114 2019-09-06 21:48:00        1.0    21  Friday    36      9  2019   \n",
       "5116 2019-09-06 21:49:00        1.0    21  Friday    36      9  2019   \n",
       "5119 2019-09-06 21:50:00        2.0    21  Friday    36      9  2019   \n",
       "5121 2019-09-06 21:50:00        2.0    21  Friday    36      9  2019   \n",
       "\n",
       "      customer_id  first_location  revenue_per_min  revenue  \n",
       "0        1_Monday  first_location                5     10.0  \n",
       "2        2_Monday  first_location                5     15.0  \n",
       "4        3_Monday  first_location                5     10.0  \n",
       "6        4_Monday  first_location                5     20.0  \n",
       "8        5_Monday  first_location                3      3.0  \n",
       "...           ...             ...              ...      ...  \n",
       "5112  1503_Friday  first_location                5     10.0  \n",
       "5114  1504_Friday  first_location                4      4.0  \n",
       "5116  1505_Friday  first_location                4      4.0  \n",
       "5119  1507_Friday  first_location                5     10.0  \n",
       "5121  1508_Friday  first_location                5     10.0  \n",
       "\n",
       "[17432 rows x 16 columns]"
      ]
     },
     "execution_count": 138,
     "metadata": {},
     "output_type": "execute_result"
    }
   ],
   "source": [
    "df_p=df.dropna(subset=['following_location'])\n",
    "df_p"
   ]
  },
  {
   "cell_type": "markdown",
   "metadata": {},
   "source": [
    "**Transition Probability Matrix**"
   ]
  },
  {
   "cell_type": "code",
   "execution_count": 139,
   "metadata": {},
   "outputs": [
    {
     "data": {
      "text/html": [
       "<div>\n",
       "<style scoped>\n",
       "    .dataframe tbody tr th:only-of-type {\n",
       "        vertical-align: middle;\n",
       "    }\n",
       "\n",
       "    .dataframe tbody tr th {\n",
       "        vertical-align: top;\n",
       "    }\n",
       "\n",
       "    .dataframe thead th {\n",
       "        text-align: right;\n",
       "    }\n",
       "</style>\n",
       "<table border=\"1\" class=\"dataframe\">\n",
       "  <thead>\n",
       "    <tr style=\"text-align: right;\">\n",
       "      <th>following_location</th>\n",
       "      <th>checkout</th>\n",
       "      <th>dairy</th>\n",
       "      <th>drinks</th>\n",
       "      <th>fruit</th>\n",
       "      <th>spices</th>\n",
       "    </tr>\n",
       "    <tr>\n",
       "      <th>location</th>\n",
       "      <th></th>\n",
       "      <th></th>\n",
       "      <th></th>\n",
       "      <th></th>\n",
       "      <th></th>\n",
       "    </tr>\n",
       "  </thead>\n",
       "  <tbody>\n",
       "    <tr>\n",
       "      <th>dairy</th>\n",
       "      <td>0.391211</td>\n",
       "      <td>0.000000</td>\n",
       "      <td>0.223151</td>\n",
       "      <td>0.189925</td>\n",
       "      <td>0.195713</td>\n",
       "    </tr>\n",
       "    <tr>\n",
       "      <th>drinks</th>\n",
       "      <td>0.537023</td>\n",
       "      <td>0.027159</td>\n",
       "      <td>0.000000</td>\n",
       "      <td>0.219062</td>\n",
       "      <td>0.216756</td>\n",
       "    </tr>\n",
       "    <tr>\n",
       "      <th>fruit</th>\n",
       "      <td>0.499511</td>\n",
       "      <td>0.238319</td>\n",
       "      <td>0.136266</td>\n",
       "      <td>0.000000</td>\n",
       "      <td>0.125904</td>\n",
       "    </tr>\n",
       "    <tr>\n",
       "      <th>spices</th>\n",
       "      <td>0.251000</td>\n",
       "      <td>0.323553</td>\n",
       "      <td>0.273140</td>\n",
       "      <td>0.152307</td>\n",
       "      <td>0.000000</td>\n",
       "    </tr>\n",
       "  </tbody>\n",
       "</table>\n",
       "</div>"
      ],
      "text/plain": [
       "following_location  checkout     dairy    drinks     fruit    spices\n",
       "location                                                            \n",
       "dairy               0.391211  0.000000  0.223151  0.189925  0.195713\n",
       "drinks              0.537023  0.027159  0.000000  0.219062  0.216756\n",
       "fruit               0.499511  0.238319  0.136266  0.000000  0.125904\n",
       "spices              0.251000  0.323553  0.273140  0.152307  0.000000"
      ]
     },
     "execution_count": 139,
     "metadata": {},
     "output_type": "execute_result"
    }
   ],
   "source": [
    "P = pd.crosstab(df_p['location'], df_p['following_location'], normalize=0)\n",
    "P"
   ]
  },
  {
   "cell_type": "code",
   "execution_count": 140,
   "metadata": {},
   "outputs": [],
   "source": [
    "#!pip install pygraphviz\n",
    "#!conda install graphviz pygraphviz -c alubbock\n",
    "#!conda install -c conda-forge python-graphviz"
   ]
  },
  {
   "cell_type": "code",
   "execution_count": 141,
   "metadata": {},
   "outputs": [],
   "source": [
    "# import pygraphviz as pgv\n",
    "\n",
    "# states = ['checkout', 'dairy', 'drinks', 'fruit', 'spices']\n",
    "# G = pgv.AGraph(directed=True)\n",
    "# for state_from in states:\n",
    "#     for state_to in states:\n",
    "#         G.add_edge(state_from, state_to, label=np.round(P.loc[state_from, state_to],2))\n",
    "\n",
    "# G.draw('transition.png', prog='dot')"
   ]
  },
  {
   "cell_type": "code",
   "execution_count": 142,
   "metadata": {},
   "outputs": [
    {
     "data": {
      "text/plain": [
       "array([0.49951124, 0.23831867, 0.13626588, 0.        , 0.1259042 ])"
      ]
     },
     "execution_count": 142,
     "metadata": {},
     "output_type": "execute_result"
    }
   ],
   "source": [
    "state_space = ['checkout', 'dairy', 'drinks', 'fruit', 'spices']\n",
    "initial_state = np.array([0, 0, 1, 0])\n",
    "transition_probabilites = P.values\n",
    "probabilities_tomorrow = initial_state.dot(P)\n",
    "probabilities_tomorrow"
   ]
  },
  {
   "cell_type": "markdown",
   "metadata": {
    "jupyter": {
     "source_hidden": true
    }
   },
   "source": [
    "**Monte-Carlo-Markov-Chain generator function:  \n",
    "randomly generates the sequence of locations a customer visits**"
   ]
  },
  {
   "cell_type": "code",
   "execution_count": 143,
   "metadata": {},
   "outputs": [],
   "source": [
    "import random\n",
    "\n",
    "def customer(prob_matrix, initial_state):\n",
    "    \n",
    "    for i in range(1,1000):  \n",
    "        while True:\n",
    "            prob=prob_matrix.loc[initial_state]\n",
    "            new_state=np.random.choice(prob.index, p = prob.values)\n",
    "            yield print(f\"A customer starts at {initial_state} section and moves to {new_state}\")"
   ]
  },
  {
   "cell_type": "code",
   "execution_count": 144,
   "metadata": {},
   "outputs": [
    {
     "name": "stdout",
     "output_type": "stream",
     "text": [
      "A customer starts at fruit section and moves to spices\n"
     ]
    }
   ],
   "source": [
    "prob_matrix = P\n",
    "initial_state = 'fruit'\n",
    "move_generator = customer(prob_matrix, initial_state)\n",
    "next(move_generator)"
   ]
  },
  {
   "cell_type": "code",
   "execution_count": 294,
   "metadata": {},
   "outputs": [
    {
     "data": {
      "text/plain": [
       "location\n",
       "dairy     0.287576\n",
       "drinks    0.153526\n",
       "fruit     0.377435\n",
       "spices    0.181464\n",
       "Name: customer_no, dtype: float64"
      ]
     },
     "execution_count": 294,
     "metadata": {},
     "output_type": "execute_result"
    }
   ],
   "source": [
    "# initial state probabilities\n",
    "\n",
    "initial_state_proba = df[df['first_location']=='first_location'].groupby(['location'])['customer_no'].count() / \\\n",
    "df[df['first_location']=='first_location'].groupby(['location'])['customer_no'].count().sum()\n",
    "initial_state_proba"
   ]
  },
  {
   "cell_type": "code",
   "execution_count": 145,
   "metadata": {},
   "outputs": [
    {
     "data": {
      "text/html": [
       "<div>\n",
       "<style scoped>\n",
       "    .dataframe tbody tr th:only-of-type {\n",
       "        vertical-align: middle;\n",
       "    }\n",
       "\n",
       "    .dataframe tbody tr th {\n",
       "        vertical-align: top;\n",
       "    }\n",
       "\n",
       "    .dataframe thead th {\n",
       "        text-align: right;\n",
       "    }\n",
       "</style>\n",
       "<table border=\"1\" class=\"dataframe\">\n",
       "  <thead>\n",
       "    <tr style=\"text-align: right;\">\n",
       "      <th>following_location</th>\n",
       "      <th>checkout</th>\n",
       "      <th>dairy</th>\n",
       "      <th>drinks</th>\n",
       "      <th>fruit</th>\n",
       "      <th>spices</th>\n",
       "    </tr>\n",
       "    <tr>\n",
       "      <th>location</th>\n",
       "      <th></th>\n",
       "      <th></th>\n",
       "      <th></th>\n",
       "      <th></th>\n",
       "      <th></th>\n",
       "    </tr>\n",
       "  </thead>\n",
       "  <tbody>\n",
       "    <tr>\n",
       "      <th>dairy</th>\n",
       "      <td>0.391211</td>\n",
       "      <td>0.000000</td>\n",
       "      <td>0.223151</td>\n",
       "      <td>0.189925</td>\n",
       "      <td>0.195713</td>\n",
       "    </tr>\n",
       "    <tr>\n",
       "      <th>drinks</th>\n",
       "      <td>0.537023</td>\n",
       "      <td>0.027159</td>\n",
       "      <td>0.000000</td>\n",
       "      <td>0.219062</td>\n",
       "      <td>0.216756</td>\n",
       "    </tr>\n",
       "    <tr>\n",
       "      <th>fruit</th>\n",
       "      <td>0.499511</td>\n",
       "      <td>0.238319</td>\n",
       "      <td>0.136266</td>\n",
       "      <td>0.000000</td>\n",
       "      <td>0.125904</td>\n",
       "    </tr>\n",
       "    <tr>\n",
       "      <th>spices</th>\n",
       "      <td>0.251000</td>\n",
       "      <td>0.323553</td>\n",
       "      <td>0.273140</td>\n",
       "      <td>0.152307</td>\n",
       "      <td>0.000000</td>\n",
       "    </tr>\n",
       "  </tbody>\n",
       "</table>\n",
       "</div>"
      ],
      "text/plain": [
       "following_location  checkout     dairy    drinks     fruit    spices\n",
       "location                                                            \n",
       "dairy               0.391211  0.000000  0.223151  0.189925  0.195713\n",
       "drinks              0.537023  0.027159  0.000000  0.219062  0.216756\n",
       "fruit               0.499511  0.238319  0.136266  0.000000  0.125904\n",
       "spices              0.251000  0.323553  0.273140  0.152307  0.000000"
      ]
     },
     "execution_count": 145,
     "metadata": {},
     "output_type": "execute_result"
    }
   ],
   "source": [
    "P"
   ]
  },
  {
   "cell_type": "markdown",
   "metadata": {},
   "source": [
    "**Simulation**  \n",
    "**Monte Carlo / Markov Chains**"
   ]
  },
  {
   "cell_type": "code",
   "execution_count": 244,
   "metadata": {},
   "outputs": [],
   "source": [
    "class Customer:\n",
    "    '''\n",
    "    The class Customer shows customer movements in the supermarket\n",
    "    '''\n",
    "    def __init__(self, initial_state_proba, prob_matrix, state_space):       \n",
    "        \n",
    "        # state space for initial section (excl. checkout)\n",
    "        self.state_space = [x for x in state_space if x != 'checkout']\n",
    "        \n",
    "        # probabilities for the first location\n",
    "        self.initial_state_proba = initial_state_proba\n",
    "        \n",
    "        # simulation of initial section based on 'initial_state_proba' (probabilities of initial section to be taken)\n",
    "        self.initial_section = np.random.choice(self.state_space, p = self.initial_state_proba)     \n",
    "\n",
    "        # probability matrix for further moves\n",
    "        self.prob_matrix = prob_matrix\n",
    "        \n",
    "        # list of customer movements\n",
    "        self.movements=[]\n",
    "        \n",
    "        \n",
    "    def move(self):\n",
    "        '''Defines the movement of the Customer'''\n",
    "        while True:\n",
    "            \n",
    "            # extracting probabilities for next moves for above chosen initial section('initial_section') from a probability matrix\n",
    "            new_prob=self.prob_matrix.loc[self.initial_section]\n",
    "\n",
    "            # simulation of move to the next section based on simulated 'initial_section'\n",
    "            new_state=np.random.choice(new_prob.index, p = new_prob.values)\n",
    "\n",
    "            # adding the next supermarket section to a list\n",
    "            self.movements.append(new_state)\n",
    "\n",
    "            #if customer move is \"checkout\" - stop\n",
    "            if new_state == 'checkout':\n",
    "                break\n",
    "                \n",
    "        return self.movements\n",
    "\n",
    "            \n",
    "    def __repr__(self):\n",
    "        return f'''\\033[1mA customer starts at section:\\n{self.initial_section}\\nand follows to:\\n{self.movements} \\033[0m'''\n"
   ]
  },
  {
   "cell_type": "code",
   "execution_count": 338,
   "metadata": {},
   "outputs": [
    {
     "data": {
      "text/plain": [
       "\u001b[1mA customer starts at section:\n",
       "spices\n",
       "and follows to:\n",
       "['dairy', 'checkout'] \u001b[0m"
      ]
     },
     "execution_count": 338,
     "metadata": {},
     "output_type": "execute_result"
    }
   ],
   "source": [
    "state_space=['checkout', 'dairy', 'drinks', 'fruit', 'spices']\n",
    "prob_matrix = P\n",
    "initial_state_proba = initial_state_proba\n",
    "\n",
    "m = Customer(initial_state_proba, prob_matrix, state_space)\n",
    "m.move()\n",
    "m"
   ]
  },
  {
   "cell_type": "code",
   "execution_count": 293,
   "metadata": {},
   "outputs": [
    {
     "data": {
      "text/plain": [
       "[('Customer_1', ['drinks', 'spices', 'checkout']),\n",
       " ('Customer_2', ['dairy', 'checkout']),\n",
       " ('Customer_3', ['drinks', 'fruit', 'spices', 'fruit', 'checkout']),\n",
       " ('Customer_4', ['fruit', 'drinks', 'checkout']),\n",
       " ('Customer_5', ['fruit', 'dairy', 'checkout']),\n",
       " ('Customer_6', ['dairy', 'fruit', 'drinks', 'fruit', 'fruit', 'checkout']),\n",
       " ('Customer_7', ['fruit', 'checkout']),\n",
       " ('Customer_8', ['drinks', 'fruit', 'checkout']),\n",
       " ('Customer_9', ['drinks', 'checkout']),\n",
       " ('Customer_10', ['fruit', 'dairy', 'checkout']),\n",
       " ('Customer_11', ['spices', 'checkout']),\n",
       " ('Customer_12', ['dairy', 'drinks', 'drinks', 'checkout']),\n",
       " ('Customer_13', ['fruit', 'checkout']),\n",
       " ('Customer_14', ['fruit', 'spices', 'checkout']),\n",
       " ('Customer_15', ['fruit', 'checkout']),\n",
       " ('Customer_16', ['dairy', 'spices', 'fruit', 'checkout']),\n",
       " ('Customer_17', ['fruit', 'checkout']),\n",
       " ('Customer_18', ['fruit', 'dairy', 'checkout']),\n",
       " ('Customer_19', ['dairy', 'fruit', 'spices', 'checkout']),\n",
       " ('Customer_20', ['dairy', 'checkout']),\n",
       " ('Customer_21', ['spices', 'drinks', 'checkout']),\n",
       " ('Customer_22', ['fruit', 'dairy', 'checkout']),\n",
       " ('Customer_23', ['fruit', 'spices', 'dairy', 'checkout']),\n",
       " ('Customer_24', ['dairy', 'spices', 'checkout']),\n",
       " ('Customer_25', ['dairy', 'spices', 'checkout']),\n",
       " ('Customer_26', ['spices', 'drinks', 'checkout']),\n",
       " ('Customer_27', ['dairy', 'checkout']),\n",
       " ('Customer_28', ['fruit', 'checkout']),\n",
       " ('Customer_29', ['dairy', 'spices', 'spices', 'checkout']),\n",
       " ('Customer_30', ['fruit', 'spices', 'drinks', 'dairy', 'spices', 'checkout']),\n",
       " ('Customer_31', ['dairy', 'checkout']),\n",
       " ('Customer_32', ['drinks', 'checkout']),\n",
       " ('Customer_33', ['dairy', 'fruit', 'drinks', 'spices', 'checkout']),\n",
       " ('Customer_34', ['drinks', 'checkout']),\n",
       " ('Customer_35', ['fruit', 'drinks', 'checkout']),\n",
       " ('Customer_36', ['drinks', 'checkout']),\n",
       " ('Customer_37',\n",
       "  ['fruit',\n",
       "   'spices',\n",
       "   'drinks',\n",
       "   'dairy',\n",
       "   'dairy',\n",
       "   'dairy',\n",
       "   'dairy',\n",
       "   'checkout']),\n",
       " ('Customer_38', ['drinks', 'checkout']),\n",
       " ('Customer_39', ['dairy', 'checkout']),\n",
       " ('Customer_40', ['dairy', 'spices', 'checkout']),\n",
       " ('Customer_41', ['dairy', 'checkout']),\n",
       " ('Customer_42', ['dairy', 'fruit', 'spices', 'checkout']),\n",
       " ('Customer_43', ['fruit', 'dairy', 'checkout']),\n",
       " ('Customer_44', ['drinks', 'fruit', 'spices', 'checkout']),\n",
       " ('Customer_45', ['fruit', 'drinks', 'dairy', 'dairy', 'checkout']),\n",
       " ('Customer_46', ['fruit', 'checkout']),\n",
       " ('Customer_47', ['fruit', 'checkout']),\n",
       " ('Customer_48', ['fruit', 'checkout']),\n",
       " ('Customer_49', ['spices', 'checkout']),\n",
       " ('Customer_50', ['spices', 'dairy', 'drinks', 'drinks', 'checkout']),\n",
       " ('Customer_51', ['fruit', 'spices', 'checkout']),\n",
       " ('Customer_52', ['fruit', 'dairy', 'checkout']),\n",
       " ('Customer_53', ['dairy', 'checkout']),\n",
       " ('Customer_54', ['fruit', 'dairy', 'spices', 'spices', 'drinks', 'checkout']),\n",
       " ('Customer_55', ['fruit', 'dairy', 'checkout']),\n",
       " ('Customer_56', ['spices', 'dairy', 'fruit', 'checkout']),\n",
       " ('Customer_57', ['fruit', 'dairy', 'drinks', 'drinks', 'checkout']),\n",
       " ('Customer_58', ['drinks', 'spices', 'checkout']),\n",
       " ('Customer_59', ['drinks', 'checkout']),\n",
       " ('Customer_60', ['fruit', 'checkout']),\n",
       " ('Customer_61', ['fruit', 'checkout']),\n",
       " ('Customer_62', ['dairy', 'checkout']),\n",
       " ('Customer_63', ['spices', 'dairy', 'dairy', 'drinks', 'checkout']),\n",
       " ('Customer_64', ['drinks', 'checkout']),\n",
       " ('Customer_65', ['fruit', 'checkout']),\n",
       " ('Customer_66', ['fruit', 'checkout']),\n",
       " ('Customer_67', ['drinks', 'spices', 'checkout']),\n",
       " ('Customer_68', ['fruit', 'checkout']),\n",
       " ('Customer_69', ['drinks', 'checkout']),\n",
       " ('Customer_70', ['dairy', 'spices', 'checkout']),\n",
       " ('Customer_71', ['fruit', 'dairy', 'checkout']),\n",
       " ('Customer_72', ['fruit', 'checkout']),\n",
       " ('Customer_73', ['drinks', 'checkout']),\n",
       " ('Customer_74', ['fruit', 'spices', 'dairy', 'checkout']),\n",
       " ('Customer_75', ['spices', 'drinks', 'checkout']),\n",
       " ('Customer_76', ['dairy', 'checkout']),\n",
       " ('Customer_77',\n",
       "  ['drinks', 'spices', 'spices', 'dairy', 'fruit', 'spices', 'checkout']),\n",
       " ('Customer_78', ['dairy', 'fruit', 'drinks', 'drinks', 'spices', 'checkout']),\n",
       " ('Customer_79', ['dairy', 'checkout']),\n",
       " ('Customer_80', ['fruit', 'spices', 'checkout']),\n",
       " ('Customer_81', ['dairy', 'checkout']),\n",
       " ('Customer_82', ['fruit', 'checkout']),\n",
       " ('Customer_83', ['fruit', 'dairy', 'checkout']),\n",
       " ('Customer_84', ['drinks', 'checkout']),\n",
       " ('Customer_85', ['fruit', 'dairy', 'dairy', 'checkout']),\n",
       " ('Customer_86', ['fruit', 'checkout']),\n",
       " ('Customer_87',\n",
       "  ['dairy', 'spices', 'spices', 'spices', 'fruit', 'spices', 'checkout']),\n",
       " ('Customer_88', ['fruit', 'dairy', 'checkout']),\n",
       " ('Customer_89',\n",
       "  ['dairy',\n",
       "   'drinks',\n",
       "   'fruit',\n",
       "   'fruit',\n",
       "   'drinks',\n",
       "   'spices',\n",
       "   'fruit',\n",
       "   'checkout']),\n",
       " ('Customer_90', ['fruit', 'drinks', 'drinks', 'checkout']),\n",
       " ('Customer_91', ['fruit', 'drinks', 'dairy', 'checkout']),\n",
       " ('Customer_92', ['dairy', 'fruit', 'fruit', 'checkout']),\n",
       " ('Customer_93', ['drinks', 'fruit', 'checkout']),\n",
       " ('Customer_94', ['spices', 'checkout']),\n",
       " ('Customer_95', ['dairy', 'fruit', 'checkout']),\n",
       " ('Customer_96',\n",
       "  ['spices', 'drinks', 'dairy', 'dairy', 'dairy', 'drinks', 'checkout']),\n",
       " ('Customer_97', ['fruit', 'spices', 'drinks', 'checkout']),\n",
       " ('Customer_98', ['fruit', 'dairy', 'checkout']),\n",
       " ('Customer_99', ['spices', 'checkout'])]"
      ]
     },
     "execution_count": 293,
     "metadata": {},
     "output_type": "execute_result"
    }
   ],
   "source": [
    "simulated_customers = []\n",
    "customer_id = []\n",
    "for i in range(1,100):\n",
    "    m = Customer(initial_state_proba, prob_matrix, state_space)\n",
    "    m.move()\n",
    "    simulated_customers.append([m.initial_section] + m.movements)\n",
    "    customer_id.append('Customer'+'_'+str(i))\n",
    "z = list(zip(customer_id, simulated_customers))\n",
    "z"
   ]
  }
 ],
 "metadata": {
  "kernelspec": {
   "display_name": "Python 3",
   "language": "python",
   "name": "python3"
  },
  "language_info": {
   "codemirror_mode": {
    "name": "ipython",
    "version": 3
   },
   "file_extension": ".py",
   "mimetype": "text/x-python",
   "name": "python",
   "nbconvert_exporter": "python",
   "pygments_lexer": "ipython3",
   "version": "3.7.6"
  }
 },
 "nbformat": 4,
 "nbformat_minor": 4
}
